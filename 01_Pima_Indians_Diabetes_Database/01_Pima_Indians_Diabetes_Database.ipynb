{
  "nbformat": 4,
  "nbformat_minor": 0,
  "metadata": {
    "colab": {
      "name": "01 - Pima Indians Diabetes Database.ipynb",
      "provenance": [],
      "collapsed_sections": [
        "6nOQAaTlvlRf",
        "A5dNmIrwxDQF"
      ],
      "toc_visible": true
    },
    "kernelspec": {
      "name": "python3",
      "display_name": "Python 3"
    },
    "language_info": {
      "name": "python"
    }
  },
  "cells": [
    {
      "cell_type": "code",
      "metadata": {
        "id": "5i5CDY1gs31e"
      },
      "source": [
        "import pandas as pd\n",
        "import numpy as np\n",
        "from sklearn.preprocessing import StandardScaler\n",
        "from sklearn.model_selection import train_test_split\n",
        "\n",
        "import seaborn as sns\n",
        "import matplotlib.pyplot as plt\n",
        "import plotly.express as px\n",
        "\n",
        "import pickle"
      ],
      "execution_count": 2,
      "outputs": []
    },
    {
      "cell_type": "code",
      "metadata": {
        "id": "DgV4Kz3TtHPo"
      },
      "source": [
        "dataset = pd.read_csv('diabetes.csv')\n",
        "#https://www.kaggle.com/uciml/pima-indians-diabetes-database\n",
        "#https://rpubs.com/ikodesh/53189#:~:text=According%20to%20http%3A%2F%2Fwww,family%20history%20to%20predict%20how\n",
        "#Dataset de mulheres com pelo menos 21 anos"
      ],
      "execution_count": 4,
      "outputs": []
    },
    {
      "cell_type": "markdown",
      "metadata": {
        "id": "6nOQAaTlvlRf"
      },
      "source": [
        "##ANÁLISE DO CONJUNTO"
      ]
    },
    {
      "cell_type": "code",
      "metadata": {
        "colab": {
          "base_uri": "https://localhost:8080/",
          "height": 206
        },
        "id": "lU0ucQw0ud8j",
        "outputId": "477c5dd4-cfe6-44cd-c8ae-a331f51de003"
      },
      "source": [
        "dataset.head()"
      ],
      "execution_count": 5,
      "outputs": [
        {
          "output_type": "execute_result",
          "data": {
            "text/html": [
              "<div>\n",
              "<style scoped>\n",
              "    .dataframe tbody tr th:only-of-type {\n",
              "        vertical-align: middle;\n",
              "    }\n",
              "\n",
              "    .dataframe tbody tr th {\n",
              "        vertical-align: top;\n",
              "    }\n",
              "\n",
              "    .dataframe thead th {\n",
              "        text-align: right;\n",
              "    }\n",
              "</style>\n",
              "<table border=\"1\" class=\"dataframe\">\n",
              "  <thead>\n",
              "    <tr style=\"text-align: right;\">\n",
              "      <th></th>\n",
              "      <th>Pregnancies</th>\n",
              "      <th>Glucose</th>\n",
              "      <th>BloodPressure</th>\n",
              "      <th>SkinThickness</th>\n",
              "      <th>Insulin</th>\n",
              "      <th>BMI</th>\n",
              "      <th>DiabetesPedigreeFunction</th>\n",
              "      <th>Age</th>\n",
              "      <th>Outcome</th>\n",
              "    </tr>\n",
              "  </thead>\n",
              "  <tbody>\n",
              "    <tr>\n",
              "      <th>0</th>\n",
              "      <td>6</td>\n",
              "      <td>148</td>\n",
              "      <td>72</td>\n",
              "      <td>35</td>\n",
              "      <td>0</td>\n",
              "      <td>33.6</td>\n",
              "      <td>0.627</td>\n",
              "      <td>50</td>\n",
              "      <td>1</td>\n",
              "    </tr>\n",
              "    <tr>\n",
              "      <th>1</th>\n",
              "      <td>1</td>\n",
              "      <td>85</td>\n",
              "      <td>66</td>\n",
              "      <td>29</td>\n",
              "      <td>0</td>\n",
              "      <td>26.6</td>\n",
              "      <td>0.351</td>\n",
              "      <td>31</td>\n",
              "      <td>0</td>\n",
              "    </tr>\n",
              "    <tr>\n",
              "      <th>2</th>\n",
              "      <td>8</td>\n",
              "      <td>183</td>\n",
              "      <td>64</td>\n",
              "      <td>0</td>\n",
              "      <td>0</td>\n",
              "      <td>23.3</td>\n",
              "      <td>0.672</td>\n",
              "      <td>32</td>\n",
              "      <td>1</td>\n",
              "    </tr>\n",
              "    <tr>\n",
              "      <th>3</th>\n",
              "      <td>1</td>\n",
              "      <td>89</td>\n",
              "      <td>66</td>\n",
              "      <td>23</td>\n",
              "      <td>94</td>\n",
              "      <td>28.1</td>\n",
              "      <td>0.167</td>\n",
              "      <td>21</td>\n",
              "      <td>0</td>\n",
              "    </tr>\n",
              "    <tr>\n",
              "      <th>4</th>\n",
              "      <td>0</td>\n",
              "      <td>137</td>\n",
              "      <td>40</td>\n",
              "      <td>35</td>\n",
              "      <td>168</td>\n",
              "      <td>43.1</td>\n",
              "      <td>2.288</td>\n",
              "      <td>33</td>\n",
              "      <td>1</td>\n",
              "    </tr>\n",
              "  </tbody>\n",
              "</table>\n",
              "</div>"
            ],
            "text/plain": [
              "   Pregnancies  Glucose  BloodPressure  ...  DiabetesPedigreeFunction  Age  Outcome\n",
              "0            6      148             72  ...                     0.627   50        1\n",
              "1            1       85             66  ...                     0.351   31        0\n",
              "2            8      183             64  ...                     0.672   32        1\n",
              "3            1       89             66  ...                     0.167   21        0\n",
              "4            0      137             40  ...                     2.288   33        1\n",
              "\n",
              "[5 rows x 9 columns]"
            ]
          },
          "metadata": {},
          "execution_count": 5
        }
      ]
    },
    {
      "cell_type": "markdown",
      "metadata": {
        "id": "9coHa9Nfu-iu"
      },
      "source": [
        "**Diabetes = produção insuficiente ou má absorção de insulina, hormônio que regula o nível de glicose no sangue**\n",
        "\n",
        "**Gravidez**\n",
        "\n",
        "Durante a gravidez o corpo passa a produzir uma maior quantidade de **glicose** ocorrendo o mesmo com a insulina\n",
        "\n",
        "**Glicose**\n",
        "\n",
        "Teste oral de intolerância à glicose (TOTG) - Interpretação após 2 horas\n",
        "* Normal: inferior a 140 mg/dl;\n",
        "* Resistência à insulina: entre 140 e 199 mg/dl;\n",
        "* Diabetes: igual ou superior a 200 mg/dl.\n",
        "\n",
        "**Aumento da pressão**\n",
        "\n",
        "Resistência a insulina resulta em sangue com níveis maiores de açúcar, contribuindo para o enrijecimento das artérias e aumento da pressão.\n",
        "\n",
        "**Pele mais fina e elástica**\n",
        "\n",
        "**Insulina**\n",
        "\n",
        "Após a alimentação com carboidrato o nível de insulina sobe \n",
        "\n",
        "**BMI = IMC**\n",
        "* Peso normal: 18,5 - 24,9\n",
        "* Sobrepeso: 25 - 29,9\n",
        "* Obesidade: >= 30\n",
        "\n",
        "**DiabetesPedigreeFunction**\n",
        "\n",
        "Função que prevê, com base no histórico familiar, como o diabetes afetará a pessoa\n",
        "\n",
        "**Idade**\n",
        "\n",
        "Maior incidência de diabetes a partir dos 40 anos"
      ]
    },
    {
      "cell_type": "markdown",
      "metadata": {
        "id": "_lqBgHz3v4pu"
      },
      "source": [
        "**Visão geral do dataset**"
      ]
    },
    {
      "cell_type": "code",
      "metadata": {
        "colab": {
          "base_uri": "https://localhost:8080/"
        },
        "id": "bqDCZvzGu6WE",
        "outputId": "0311c040-2241-45aa-848d-9f22fd228ff0"
      },
      "source": [
        "dataset.shape"
      ],
      "execution_count": 7,
      "outputs": [
        {
          "output_type": "execute_result",
          "data": {
            "text/plain": [
              "(768, 9)"
            ]
          },
          "metadata": {},
          "execution_count": 7
        }
      ]
    },
    {
      "cell_type": "markdown",
      "metadata": {
        "id": "oHn9xeK_v-2G"
      },
      "source": [
        "**Registros: 768 ---- Atributos: 8**"
      ]
    },
    {
      "cell_type": "code",
      "metadata": {
        "colab": {
          "base_uri": "https://localhost:8080/"
        },
        "id": "Q-zr30dUvdGn",
        "outputId": "af853c07-c0bd-449c-f9f3-7a7f337980ea"
      },
      "source": [
        "dataset.info()"
      ],
      "execution_count": 8,
      "outputs": [
        {
          "output_type": "stream",
          "name": "stdout",
          "text": [
            "<class 'pandas.core.frame.DataFrame'>\n",
            "RangeIndex: 768 entries, 0 to 767\n",
            "Data columns (total 9 columns):\n",
            " #   Column                    Non-Null Count  Dtype  \n",
            "---  ------                    --------------  -----  \n",
            " 0   Pregnancies               768 non-null    int64  \n",
            " 1   Glucose                   768 non-null    int64  \n",
            " 2   BloodPressure             768 non-null    int64  \n",
            " 3   SkinThickness             768 non-null    int64  \n",
            " 4   Insulin                   768 non-null    int64  \n",
            " 5   BMI                       768 non-null    float64\n",
            " 6   DiabetesPedigreeFunction  768 non-null    float64\n",
            " 7   Age                       768 non-null    int64  \n",
            " 8   Outcome                   768 non-null    int64  \n",
            "dtypes: float64(2), int64(7)\n",
            "memory usage: 54.1 KB\n"
          ]
        }
      ]
    },
    {
      "cell_type": "markdown",
      "metadata": {
        "id": "A_HMHaVuwK8e"
      },
      "source": [
        "**Atributos: numéricos ---- Atributos faltantes: 0**"
      ]
    },
    {
      "cell_type": "code",
      "metadata": {
        "colab": {
          "base_uri": "https://localhost:8080/"
        },
        "id": "girq-USLvg7V",
        "outputId": "7f2b049e-4e5e-44db-cd26-9cb5bf450076"
      },
      "source": [
        "np.unique(dataset.iloc[:,-1:])"
      ],
      "execution_count": 9,
      "outputs": [
        {
          "output_type": "execute_result",
          "data": {
            "text/plain": [
              "array([0, 1])"
            ]
          },
          "metadata": {},
          "execution_count": 9
        }
      ]
    },
    {
      "cell_type": "markdown",
      "metadata": {
        "id": "a4iPpCUFwWpG"
      },
      "source": [
        "**Classes: 2 ---- 1 = diabético ---- 2 = não diabético**"
      ]
    },
    {
      "cell_type": "code",
      "metadata": {
        "colab": {
          "base_uri": "https://localhost:8080/"
        },
        "id": "geYbo34NwVzr",
        "outputId": "90b521a8-2fd4-4e52-8611-fe17632885cf"
      },
      "source": [
        "(dataset == 0).sum(axis=0)"
      ],
      "execution_count": 10,
      "outputs": [
        {
          "output_type": "execute_result",
          "data": {
            "text/plain": [
              "Pregnancies                 111\n",
              "Glucose                       5\n",
              "BloodPressure                35\n",
              "SkinThickness               227\n",
              "Insulin                     374\n",
              "BMI                          11\n",
              "DiabetesPedigreeFunction      0\n",
              "Age                           0\n",
              "Outcome                     500\n",
              "dtype: int64"
            ]
          },
          "metadata": {},
          "execution_count": 10
        }
      ]
    },
    {
      "cell_type": "markdown",
      "metadata": {
        "id": "iWTngiqmwnbe"
      },
      "source": [
        "**Valores iguais a 0 por coluna**"
      ]
    },
    {
      "cell_type": "code",
      "metadata": {
        "colab": {
          "base_uri": "https://localhost:8080/",
          "height": 300
        },
        "id": "oZASlz4Owkg5",
        "outputId": "54e19103-e9b6-4816-a2b8-7dc5642b1692"
      },
      "source": [
        "dataset.describe()"
      ],
      "execution_count": 11,
      "outputs": [
        {
          "output_type": "execute_result",
          "data": {
            "text/html": [
              "<div>\n",
              "<style scoped>\n",
              "    .dataframe tbody tr th:only-of-type {\n",
              "        vertical-align: middle;\n",
              "    }\n",
              "\n",
              "    .dataframe tbody tr th {\n",
              "        vertical-align: top;\n",
              "    }\n",
              "\n",
              "    .dataframe thead th {\n",
              "        text-align: right;\n",
              "    }\n",
              "</style>\n",
              "<table border=\"1\" class=\"dataframe\">\n",
              "  <thead>\n",
              "    <tr style=\"text-align: right;\">\n",
              "      <th></th>\n",
              "      <th>Pregnancies</th>\n",
              "      <th>Glucose</th>\n",
              "      <th>BloodPressure</th>\n",
              "      <th>SkinThickness</th>\n",
              "      <th>Insulin</th>\n",
              "      <th>BMI</th>\n",
              "      <th>DiabetesPedigreeFunction</th>\n",
              "      <th>Age</th>\n",
              "      <th>Outcome</th>\n",
              "    </tr>\n",
              "  </thead>\n",
              "  <tbody>\n",
              "    <tr>\n",
              "      <th>count</th>\n",
              "      <td>768.000000</td>\n",
              "      <td>768.000000</td>\n",
              "      <td>768.000000</td>\n",
              "      <td>768.000000</td>\n",
              "      <td>768.000000</td>\n",
              "      <td>768.000000</td>\n",
              "      <td>768.000000</td>\n",
              "      <td>768.000000</td>\n",
              "      <td>768.000000</td>\n",
              "    </tr>\n",
              "    <tr>\n",
              "      <th>mean</th>\n",
              "      <td>3.845052</td>\n",
              "      <td>120.894531</td>\n",
              "      <td>69.105469</td>\n",
              "      <td>20.536458</td>\n",
              "      <td>79.799479</td>\n",
              "      <td>31.992578</td>\n",
              "      <td>0.471876</td>\n",
              "      <td>33.240885</td>\n",
              "      <td>0.348958</td>\n",
              "    </tr>\n",
              "    <tr>\n",
              "      <th>std</th>\n",
              "      <td>3.369578</td>\n",
              "      <td>31.972618</td>\n",
              "      <td>19.355807</td>\n",
              "      <td>15.952218</td>\n",
              "      <td>115.244002</td>\n",
              "      <td>7.884160</td>\n",
              "      <td>0.331329</td>\n",
              "      <td>11.760232</td>\n",
              "      <td>0.476951</td>\n",
              "    </tr>\n",
              "    <tr>\n",
              "      <th>min</th>\n",
              "      <td>0.000000</td>\n",
              "      <td>0.000000</td>\n",
              "      <td>0.000000</td>\n",
              "      <td>0.000000</td>\n",
              "      <td>0.000000</td>\n",
              "      <td>0.000000</td>\n",
              "      <td>0.078000</td>\n",
              "      <td>21.000000</td>\n",
              "      <td>0.000000</td>\n",
              "    </tr>\n",
              "    <tr>\n",
              "      <th>25%</th>\n",
              "      <td>1.000000</td>\n",
              "      <td>99.000000</td>\n",
              "      <td>62.000000</td>\n",
              "      <td>0.000000</td>\n",
              "      <td>0.000000</td>\n",
              "      <td>27.300000</td>\n",
              "      <td>0.243750</td>\n",
              "      <td>24.000000</td>\n",
              "      <td>0.000000</td>\n",
              "    </tr>\n",
              "    <tr>\n",
              "      <th>50%</th>\n",
              "      <td>3.000000</td>\n",
              "      <td>117.000000</td>\n",
              "      <td>72.000000</td>\n",
              "      <td>23.000000</td>\n",
              "      <td>30.500000</td>\n",
              "      <td>32.000000</td>\n",
              "      <td>0.372500</td>\n",
              "      <td>29.000000</td>\n",
              "      <td>0.000000</td>\n",
              "    </tr>\n",
              "    <tr>\n",
              "      <th>75%</th>\n",
              "      <td>6.000000</td>\n",
              "      <td>140.250000</td>\n",
              "      <td>80.000000</td>\n",
              "      <td>32.000000</td>\n",
              "      <td>127.250000</td>\n",
              "      <td>36.600000</td>\n",
              "      <td>0.626250</td>\n",
              "      <td>41.000000</td>\n",
              "      <td>1.000000</td>\n",
              "    </tr>\n",
              "    <tr>\n",
              "      <th>max</th>\n",
              "      <td>17.000000</td>\n",
              "      <td>199.000000</td>\n",
              "      <td>122.000000</td>\n",
              "      <td>99.000000</td>\n",
              "      <td>846.000000</td>\n",
              "      <td>67.100000</td>\n",
              "      <td>2.420000</td>\n",
              "      <td>81.000000</td>\n",
              "      <td>1.000000</td>\n",
              "    </tr>\n",
              "  </tbody>\n",
              "</table>\n",
              "</div>"
            ],
            "text/plain": [
              "       Pregnancies     Glucose  ...         Age     Outcome\n",
              "count   768.000000  768.000000  ...  768.000000  768.000000\n",
              "mean      3.845052  120.894531  ...   33.240885    0.348958\n",
              "std       3.369578   31.972618  ...   11.760232    0.476951\n",
              "min       0.000000    0.000000  ...   21.000000    0.000000\n",
              "25%       1.000000   99.000000  ...   24.000000    0.000000\n",
              "50%       3.000000  117.000000  ...   29.000000    0.000000\n",
              "75%       6.000000  140.250000  ...   41.000000    1.000000\n",
              "max      17.000000  199.000000  ...   81.000000    1.000000\n",
              "\n",
              "[8 rows x 9 columns]"
            ]
          },
          "metadata": {},
          "execution_count": 11
        }
      ]
    },
    {
      "cell_type": "markdown",
      "metadata": {
        "id": "HGkon-aiwunu"
      },
      "source": [
        "**Informações estatísticas dos dados**"
      ]
    },
    {
      "cell_type": "markdown",
      "metadata": {
        "id": "A5dNmIrwxDQF"
      },
      "source": [
        "# VISUALIZAÇÃO DOS DADOS"
      ]
    },
    {
      "cell_type": "code",
      "metadata": {
        "colab": {
          "base_uri": "https://localhost:8080/",
          "height": 1000
        },
        "id": "jPa2EkIxwtot",
        "outputId": "b29f71d1-9e66-4bca-9cd0-fc49c5e23e07"
      },
      "source": [
        "_ = dataset.hist(figsize = (18,18))"
      ],
      "execution_count": 12,
      "outputs": [
        {
          "output_type": "display_data",
          "data": {
            "image/png": "[encoded data removed]",
            "text/plain": [
              "<Figure size 1296x1296 with 9 Axes>"
            ]
          },
          "metadata": {
            "needs_background": "light"
          }
        }
      ]
    },
    {
      "cell_type": "code",
      "metadata": {
        "colab": {
          "base_uri": "https://localhost:8080/",
          "height": 1000
        },
        "id": "x_gXOBcUxTSg",
        "outputId": "be373e46-cac4-4c16-b892-fb6fea9d0466"
      },
      "source": [
        "y_0 = dataset.loc[dataset['Outcome'] == 0]\n",
        "y_1 = dataset.loc[dataset['Outcome'] == 1]\n",
        "for c in dataset.keys():\n",
        "    if(c != 'Outcome'):\n",
        "        y_0.hist(column = c, bins = 10)\n",
        "        y_1.hist(column = c, bins = 10)\n",
        "    else:\n",
        "        dataset.hist(column = 'Outcome')"
      ],
      "execution_count": 13,
      "outputs": [
        {
          "output_type": "display_data",
          "data": {
            "image/png": "[encoded data removed]",
            "text/plain": [
              "<Figure size 432x288 with 1 Axes>"
            ]
          },
          "metadata": {
            "needs_background": "light"
          }
        },
        {
          "output_type": "display_data",
          "data": {
            "image/png": "[encoded data removed]",
            "text/plain": [
              "<Figure size 432x288 with 1 Axes>"
            ]
          },
          "metadata": {
            "needs_background": "light"
          }
        },
        {
          "output_type": "display_data",
          "data": {
            "image/png": "[encoded data removed]",
            "text/plain": [
              "<Figure size 432x288 with 1 Axes>"
            ]
          },
          "metadata": {
            "needs_background": "light"
          }
        },
        {
          "output_type": "display_data",
          "data": {
            "image/png": "[encoded data removed]",
            "text/plain": [
              "<Figure size 432x288 with 1 Axes>"
            ]
          },
          "metadata": {
            "needs_background": "light"
          }
        },
        {
          "output_type": "display_data",
          "data": {
            "image/png": "[encoded data removed]",
            "text/plain": [
              "<Figure size 432x288 with 1 Axes>"
            ]
          },
          "metadata": {
            "needs_background": "light"
          }
        },
        {
          "output_type": "display_data",
          "data": {
            "image/png": "[encoded data removed]",
            "text/plain": [
              "<Figure size 432x288 with 1 Axes>"
            ]
          },
          "metadata": {
            "needs_background": "light"
          }
        },
        {
          "output_type": "display_data",
          "data": {
            "image/png": "[encoded data removed]",
            "text/plain": [
              "<Figure size 432x288 with 1 Axes>"
            ]
          },
          "metadata": {
            "needs_background": "light"
          }
        },
        {
          "output_type": "display_data",
          "data": {
            "image/png": "[encoded data removed]",
            "text/plain": [
              "<Figure size 432x288 with 1 Axes>"
            ]
          },
          "metadata": {
            "needs_background": "light"
          }
        },
        {
          "output_type": "display_data",
          "data": {
            "image/png": "[encoded data removed]",
            "text/plain": [
              "<Figure size 432x288 with 1 Axes>"
            ]
          },
          "metadata": {
            "needs_background": "light"
          }
        },
        {
          "output_type": "display_data",
          "data": {
            "image/png": "[encoded data removed]",
            "text/plain": [
              "<Figure size 432x288 with 1 Axes>"
            ]
          },
          "metadata": {
            "needs_background": "light"
          }
        },
        {
          "output_type": "display_data",
          "data": {
            "image/png": "[encoded data removed]",
            "text/plain": [
              "<Figure size 432x288 with 1 Axes>"
            ]
          },
          "metadata": {
            "needs_background": "light"
          }
        },
        {
          "output_type": "display_data",
          "data": {
            "image/png": "[encoded data removed]",
            "text/plain": [
              "<Figure size 432x288 with 1 Axes>"
            ]
          },
          "metadata": {
            "needs_background": "light"
          }
        },
        {
          "output_type": "display_data",
          "data": {
            "image/png": "[encoded data removed]",
            "text/plain": [
              "<Figure size 432x288 with 1 Axes>"
            ]
          },
          "metadata": {
            "needs_background": "light"
          }
        },
        {
          "output_type": "display_data",
          "data": {
            "image/png": "[encoded data removed]",
            "text/plain": [
              "<Figure size 432x288 with 1 Axes>"
            ]
          },
          "metadata": {
            "needs_background": "light"
          }
        },
        {
          "output_type": "display_data",
          "data": {
            "image/png": "[encoded data removed]",
            "text/plain": [
              "<Figure size 432x288 with 1 Axes>"
            ]
          },
          "metadata": {
            "needs_background": "light"
          }
        },
        {
          "output_type": "display_data",
          "data": {
            "image/png": "[encoded data removed]",
            "text/plain": [
              "<Figure size 432x288 with 1 Axes>"
            ]
          },
          "metadata": {
            "needs_background": "light"
          }
        },
        {
          "output_type": "display_data",
          "data": {
            "image/png": "[encoded data removed]",
            "text/plain": [
              "<Figure size 432x288 with 1 Axes>"
            ]
          },
          "metadata": {
            "needs_background": "light"
          }
        }
      ]
    },
    {
      "cell_type": "code",
      "metadata": {
        "colab": {
          "base_uri": "https://localhost:8080/",
          "height": 1000
        },
        "id": "MAYEnjVlxepG",
        "outputId": "1bcdc1e8-b172-4fa5-8746-d854eeb31a97"
      },
      "source": [
        "for c in dataset.keys():\n",
        "    if(c != 'Outcome'):\n",
        "        _ = dataset.plot.scatter(x = c, y = 'Outcome')"
      ],
      "execution_count": 14,
      "outputs": [
        {
          "output_type": "display_data",
          "data": {
            "image/png": "[encoded data removed]",
            "text/plain": [
              "<Figure size 432x288 with 1 Axes>"
            ]
          },
          "metadata": {
            "needs_background": "light"
          }
        },
        {
          "output_type": "display_data",
          "data": {
            "image/png": "[encoded data removed]",
            "text/plain": [
              "<Figure size 432x288 with 1 Axes>"
            ]
          },
          "metadata": {
            "needs_background": "light"
          }
        },
        {
          "output_type": "display_data",
          "data": {
            "image/png": "[encoded data removed]",
            "text/plain": [
              "<Figure size 432x288 with 1 Axes>"
            ]
          },
          "metadata": {
            "needs_background": "light"
          }
        },
        {
          "output_type": "display_data",
          "data": {
            "image/png": "[encoded data removed]",
            "text/plain": [
              "<Figure size 432x288 with 1 Axes>"
            ]
          },
          "metadata": {
            "needs_background": "light"
          }
        },
        {
          "output_type": "display_data",
          "data": {
            "image/png": "[encoded data removed]",
            "text/plain": [
              "<Figure size 432x288 with 1 Axes>"
            ]
          },
          "metadata": {
            "needs_background": "light"
          }
        },
        {
          "output_type": "display_data",
          "data": {
            "image/png": "[encoded data removed]",
            "text/plain": [
              "<Figure size 432x288 with 1 Axes>"
            ]
          },
          "metadata": {
            "needs_background": "light"
          }
        },
        {
          "output_type": "display_data",
          "data": {
            "image/png": "[encoded data removed]",
            "text/plain": [
              "<Figure size 432x288 with 1 Axes>"
            ]
          },
          "metadata": {
            "needs_background": "light"
          }
        },
        {
          "output_type": "display_data",
          "data": {
            "image/png": "[encoded data removed]",
            "text/plain": [
              "<Figure size 432x288 with 1 Axes>"
            ]
          },
          "metadata": {
            "needs_background": "light"
          }
        }
      ]
    },
    {
      "cell_type": "markdown",
      "metadata": {
        "id": "pp89uAY7xvlv"
      },
      "source": [
        "## Matriz de Correlação"
      ]
    },
    {
      "cell_type": "code",
      "metadata": {
        "colab": {
          "base_uri": "https://localhost:8080/",
          "height": 332
        },
        "id": "zxbMpBZKxpvj",
        "outputId": "a2e6ff23-1932-4fe1-b202-9d7e1726cae2"
      },
      "source": [
        "corr_df = dataset.corr(method = 'pearson')\n",
        "corr_df"
      ],
      "execution_count": 15,
      "outputs": [
        {
          "output_type": "execute_result",
          "data": {
            "text/html": [
              "<div>\n",
              "<style scoped>\n",
              "    .dataframe tbody tr th:only-of-type {\n",
              "        vertical-align: middle;\n",
              "    }\n",
              "\n",
              "    .dataframe tbody tr th {\n",
              "        vertical-align: top;\n",
              "    }\n",
              "\n",
              "    .dataframe thead th {\n",
              "        text-align: right;\n",
              "    }\n",
              "</style>\n",
              "<table border=\"1\" class=\"dataframe\">\n",
              "  <thead>\n",
              "    <tr style=\"text-align: right;\">\n",
              "      <th></th>\n",
              "      <th>Pregnancies</th>\n",
              "      <th>Glucose</th>\n",
              "      <th>BloodPressure</th>\n",
              "      <th>SkinThickness</th>\n",
              "      <th>Insulin</th>\n",
              "      <th>BMI</th>\n",
              "      <th>DiabetesPedigreeFunction</th>\n",
              "      <th>Age</th>\n",
              "      <th>Outcome</th>\n",
              "    </tr>\n",
              "  </thead>\n",
              "  <tbody>\n",
              "    <tr>\n",
              "      <th>Pregnancies</th>\n",
              "      <td>1.000000</td>\n",
              "      <td>0.129459</td>\n",
              "      <td>0.141282</td>\n",
              "      <td>-0.081672</td>\n",
              "      <td>-0.073535</td>\n",
              "      <td>0.017683</td>\n",
              "      <td>-0.033523</td>\n",
              "      <td>0.544341</td>\n",
              "      <td>0.221898</td>\n",
              "    </tr>\n",
              "    <tr>\n",
              "      <th>Glucose</th>\n",
              "      <td>0.129459</td>\n",
              "      <td>1.000000</td>\n",
              "      <td>0.152590</td>\n",
              "      <td>0.057328</td>\n",
              "      <td>0.331357</td>\n",
              "      <td>0.221071</td>\n",
              "      <td>0.137337</td>\n",
              "      <td>0.263514</td>\n",
              "      <td>0.466581</td>\n",
              "    </tr>\n",
              "    <tr>\n",
              "      <th>BloodPressure</th>\n",
              "      <td>0.141282</td>\n",
              "      <td>0.152590</td>\n",
              "      <td>1.000000</td>\n",
              "      <td>0.207371</td>\n",
              "      <td>0.088933</td>\n",
              "      <td>0.281805</td>\n",
              "      <td>0.041265</td>\n",
              "      <td>0.239528</td>\n",
              "      <td>0.065068</td>\n",
              "    </tr>\n",
              "    <tr>\n",
              "      <th>SkinThickness</th>\n",
              "      <td>-0.081672</td>\n",
              "      <td>0.057328</td>\n",
              "      <td>0.207371</td>\n",
              "      <td>1.000000</td>\n",
              "      <td>0.436783</td>\n",
              "      <td>0.392573</td>\n",
              "      <td>0.183928</td>\n",
              "      <td>-0.113970</td>\n",
              "      <td>0.074752</td>\n",
              "    </tr>\n",
              "    <tr>\n",
              "      <th>Insulin</th>\n",
              "      <td>-0.073535</td>\n",
              "      <td>0.331357</td>\n",
              "      <td>0.088933</td>\n",
              "      <td>0.436783</td>\n",
              "      <td>1.000000</td>\n",
              "      <td>0.197859</td>\n",
              "      <td>0.185071</td>\n",
              "      <td>-0.042163</td>\n",
              "      <td>0.130548</td>\n",
              "    </tr>\n",
              "    <tr>\n",
              "      <th>BMI</th>\n",
              "      <td>0.017683</td>\n",
              "      <td>0.221071</td>\n",
              "      <td>0.281805</td>\n",
              "      <td>0.392573</td>\n",
              "      <td>0.197859</td>\n",
              "      <td>1.000000</td>\n",
              "      <td>0.140647</td>\n",
              "      <td>0.036242</td>\n",
              "      <td>0.292695</td>\n",
              "    </tr>\n",
              "    <tr>\n",
              "      <th>DiabetesPedigreeFunction</th>\n",
              "      <td>-0.033523</td>\n",
              "      <td>0.137337</td>\n",
              "      <td>0.041265</td>\n",
              "      <td>0.183928</td>\n",
              "      <td>0.185071</td>\n",
              "      <td>0.140647</td>\n",
              "      <td>1.000000</td>\n",
              "      <td>0.033561</td>\n",
              "      <td>0.173844</td>\n",
              "    </tr>\n",
              "    <tr>\n",
              "      <th>Age</th>\n",
              "      <td>0.544341</td>\n",
              "      <td>0.263514</td>\n",
              "      <td>0.239528</td>\n",
              "      <td>-0.113970</td>\n",
              "      <td>-0.042163</td>\n",
              "      <td>0.036242</td>\n",
              "      <td>0.033561</td>\n",
              "      <td>1.000000</td>\n",
              "      <td>0.238356</td>\n",
              "    </tr>\n",
              "    <tr>\n",
              "      <th>Outcome</th>\n",
              "      <td>0.221898</td>\n",
              "      <td>0.466581</td>\n",
              "      <td>0.065068</td>\n",
              "      <td>0.074752</td>\n",
              "      <td>0.130548</td>\n",
              "      <td>0.292695</td>\n",
              "      <td>0.173844</td>\n",
              "      <td>0.238356</td>\n",
              "      <td>1.000000</td>\n",
              "    </tr>\n",
              "  </tbody>\n",
              "</table>\n",
              "</div>"
            ],
            "text/plain": [
              "                          Pregnancies   Glucose  ...       Age   Outcome\n",
              "Pregnancies                  1.000000  0.129459  ...  0.544341  0.221898\n",
              "Glucose                      0.129459  1.000000  ...  0.263514  0.466581\n",
              "BloodPressure                0.141282  0.152590  ...  0.239528  0.065068\n",
              "SkinThickness               -0.081672  0.057328  ... -0.113970  0.074752\n",
              "Insulin                     -0.073535  0.331357  ... -0.042163  0.130548\n",
              "BMI                          0.017683  0.221071  ...  0.036242  0.292695\n",
              "DiabetesPedigreeFunction    -0.033523  0.137337  ...  0.033561  0.173844\n",
              "Age                          0.544341  0.263514  ...  1.000000  0.238356\n",
              "Outcome                      0.221898  0.466581  ...  0.238356  1.000000\n",
              "\n",
              "[9 rows x 9 columns]"
            ]
          },
          "metadata": {},
          "execution_count": 15
        }
      ]
    },
    {
      "cell_type": "code",
      "metadata": {
        "colab": {
          "base_uri": "https://localhost:8080/",
          "height": 332
        },
        "id": "Q6v5GzZOxtTh",
        "outputId": "be8efd8a-30ec-4934-b2c6-4cafb778e5e7"
      },
      "source": [
        "corr_df.style.background_gradient(cmap='coolwarm')"
      ],
      "execution_count": 16,
      "outputs": [
        {
          "output_type": "execute_result",
          "data": {
            "text/html": [
              "<style  type=\"text/css\" >\n",
              "#T_6645b472_4ca7_11ec_b5ca_0242ac1c0002row0_col0,#T_6645b472_4ca7_11ec_b5ca_0242ac1c0002row1_col1,#T_6645b472_4ca7_11ec_b5ca_0242ac1c0002row2_col2,#T_6645b472_4ca7_11ec_b5ca_0242ac1c0002row3_col3,#T_6645b472_4ca7_11ec_b5ca_0242ac1c0002row4_col4,#T_6645b472_4ca7_11ec_b5ca_0242ac1c0002row5_col5,#T_6645b472_4ca7_11ec_b5ca_0242ac1c0002row6_col6,#T_6645b472_4ca7_11ec_b5ca_0242ac1c0002row7_col7,#T_6645b472_4ca7_11ec_b5ca_0242ac1c0002row8_col8{\n",
              "            background-color:  #b40426;\n",
              "            color:  #f1f1f1;\n",
              "        }#T_6645b472_4ca7_11ec_b5ca_0242ac1c0002row0_col1{\n",
              "            background-color:  #516ddb;\n",
              "            color:  #000000;\n",
              "        }#T_6645b472_4ca7_11ec_b5ca_0242ac1c0002row0_col2{\n",
              "            background-color:  #5a78e4;\n",
              "            color:  #000000;\n",
              "        }#T_6645b472_4ca7_11ec_b5ca_0242ac1c0002row0_col3,#T_6645b472_4ca7_11ec_b5ca_0242ac1c0002row7_col4{\n",
              "            background-color:  #4358cb;\n",
              "            color:  #f1f1f1;\n",
              "        }#T_6645b472_4ca7_11ec_b5ca_0242ac1c0002row0_col4,#T_6645b472_4ca7_11ec_b5ca_0242ac1c0002row0_col5,#T_6645b472_4ca7_11ec_b5ca_0242ac1c0002row0_col6,#T_6645b472_4ca7_11ec_b5ca_0242ac1c0002row2_col8,#T_6645b472_4ca7_11ec_b5ca_0242ac1c0002row3_col0,#T_6645b472_4ca7_11ec_b5ca_0242ac1c0002row3_col1,#T_6645b472_4ca7_11ec_b5ca_0242ac1c0002row3_col7,#T_6645b472_4ca7_11ec_b5ca_0242ac1c0002row6_col2,#T_6645b472_4ca7_11ec_b5ca_0242ac1c0002row7_col3{\n",
              "            background-color:  #3b4cc0;\n",
              "            color:  #f1f1f1;\n",
              "        }#T_6645b472_4ca7_11ec_b5ca_0242ac1c0002row0_col7{\n",
              "            background-color:  #f1cdba;\n",
              "            color:  #000000;\n",
              "        }#T_6645b472_4ca7_11ec_b5ca_0242ac1c0002row0_col8,#T_6645b472_4ca7_11ec_b5ca_0242ac1c0002row1_col6{\n",
              "            background-color:  #6f92f3;\n",
              "            color:  #000000;\n",
              "        }#T_6645b472_4ca7_11ec_b5ca_0242ac1c0002row1_col0{\n",
              "            background-color:  #799cf8;\n",
              "            color:  #000000;\n",
              "        }#T_6645b472_4ca7_11ec_b5ca_0242ac1c0002row1_col2,#T_6645b472_4ca7_11ec_b5ca_0242ac1c0002row6_col8{\n",
              "            background-color:  #5e7de7;\n",
              "            color:  #000000;\n",
              "        }#T_6645b472_4ca7_11ec_b5ca_0242ac1c0002row1_col3{\n",
              "            background-color:  #6b8df0;\n",
              "            color:  #000000;\n",
              "        }#T_6645b472_4ca7_11ec_b5ca_0242ac1c0002row1_col4{\n",
              "            background-color:  #b9d0f9;\n",
              "            color:  #000000;\n",
              "        }#T_6645b472_4ca7_11ec_b5ca_0242ac1c0002row1_col5,#T_6645b472_4ca7_11ec_b5ca_0242ac1c0002row3_col6{\n",
              "            background-color:  #7ea1fa;\n",
              "            color:  #000000;\n",
              "        }#T_6645b472_4ca7_11ec_b5ca_0242ac1c0002row1_col7{\n",
              "            background-color:  #abc8fd;\n",
              "            color:  #000000;\n",
              "        }#T_6645b472_4ca7_11ec_b5ca_0242ac1c0002row1_col8{\n",
              "            background-color:  #c9d7f0;\n",
              "            color:  #000000;\n",
              "        }#T_6645b472_4ca7_11ec_b5ca_0242ac1c0002row2_col0,#T_6645b472_4ca7_11ec_b5ca_0242ac1c0002row7_col2{\n",
              "            background-color:  #7da0f9;\n",
              "            color:  #000000;\n",
              "        }#T_6645b472_4ca7_11ec_b5ca_0242ac1c0002row2_col1{\n",
              "            background-color:  #5977e3;\n",
              "            color:  #000000;\n",
              "        }#T_6645b472_4ca7_11ec_b5ca_0242ac1c0002row2_col3{\n",
              "            background-color:  #9abbff;\n",
              "            color:  #000000;\n",
              "        }#T_6645b472_4ca7_11ec_b5ca_0242ac1c0002row2_col4{\n",
              "            background-color:  #6a8bef;\n",
              "            color:  #000000;\n",
              "        }#T_6645b472_4ca7_11ec_b5ca_0242ac1c0002row2_col5,#T_6645b472_4ca7_11ec_b5ca_0242ac1c0002row6_col3{\n",
              "            background-color:  #93b5fe;\n",
              "            color:  #000000;\n",
              "        }#T_6645b472_4ca7_11ec_b5ca_0242ac1c0002row2_col6{\n",
              "            background-color:  #506bda;\n",
              "            color:  #000000;\n",
              "        }#T_6645b472_4ca7_11ec_b5ca_0242ac1c0002row2_col7{\n",
              "            background-color:  #a5c3fe;\n",
              "            color:  #000000;\n",
              "        }#T_6645b472_4ca7_11ec_b5ca_0242ac1c0002row3_col2,#T_6645b472_4ca7_11ec_b5ca_0242ac1c0002row5_col1{\n",
              "            background-color:  #7295f4;\n",
              "            color:  #000000;\n",
              "        }#T_6645b472_4ca7_11ec_b5ca_0242ac1c0002row3_col4{\n",
              "            background-color:  #d6dce4;\n",
              "            color:  #000000;\n",
              "        }#T_6645b472_4ca7_11ec_b5ca_0242ac1c0002row3_col5{\n",
              "            background-color:  #bad0f8;\n",
              "            color:  #000000;\n",
              "        }#T_6645b472_4ca7_11ec_b5ca_0242ac1c0002row3_col8{\n",
              "            background-color:  #3d50c3;\n",
              "            color:  #f1f1f1;\n",
              "        }#T_6645b472_4ca7_11ec_b5ca_0242ac1c0002row4_col0{\n",
              "            background-color:  #3c4ec2;\n",
              "            color:  #f1f1f1;\n",
              "        }#T_6645b472_4ca7_11ec_b5ca_0242ac1c0002row4_col1{\n",
              "            background-color:  #9bbcff;\n",
              "            color:  #000000;\n",
              "        }#T_6645b472_4ca7_11ec_b5ca_0242ac1c0002row4_col2{\n",
              "            background-color:  #4961d2;\n",
              "            color:  #f1f1f1;\n",
              "        }#T_6645b472_4ca7_11ec_b5ca_0242ac1c0002row4_col3{\n",
              "            background-color:  #dbdcde;\n",
              "            color:  #000000;\n",
              "        }#T_6645b472_4ca7_11ec_b5ca_0242ac1c0002row4_col5{\n",
              "            background-color:  #7597f6;\n",
              "            color:  #000000;\n",
              "        }#T_6645b472_4ca7_11ec_b5ca_0242ac1c0002row4_col6{\n",
              "            background-color:  #80a3fa;\n",
              "            color:  #000000;\n",
              "        }#T_6645b472_4ca7_11ec_b5ca_0242ac1c0002row4_col7,#T_6645b472_4ca7_11ec_b5ca_0242ac1c0002row7_col6{\n",
              "            background-color:  #4e68d8;\n",
              "            color:  #000000;\n",
              "        }#T_6645b472_4ca7_11ec_b5ca_0242ac1c0002row4_col8{\n",
              "            background-color:  #4f69d9;\n",
              "            color:  #000000;\n",
              "        }#T_6645b472_4ca7_11ec_b5ca_0242ac1c0002row5_col0{\n",
              "            background-color:  #5673e0;\n",
              "            color:  #000000;\n",
              "        }#T_6645b472_4ca7_11ec_b5ca_0242ac1c0002row5_col2,#T_6645b472_4ca7_11ec_b5ca_0242ac1c0002row5_col4{\n",
              "            background-color:  #8db0fe;\n",
              "            color:  #000000;\n",
              "        }#T_6645b472_4ca7_11ec_b5ca_0242ac1c0002row5_col3{\n",
              "            background-color:  #d1dae9;\n",
              "            color:  #000000;\n",
              "        }#T_6645b472_4ca7_11ec_b5ca_0242ac1c0002row5_col6,#T_6645b472_4ca7_11ec_b5ca_0242ac1c0002row8_col3{\n",
              "            background-color:  #7093f3;\n",
              "            color:  #000000;\n",
              "        }#T_6645b472_4ca7_11ec_b5ca_0242ac1c0002row5_col7{\n",
              "            background-color:  #6485ec;\n",
              "            color:  #000000;\n",
              "        }#T_6645b472_4ca7_11ec_b5ca_0242ac1c0002row5_col8{\n",
              "            background-color:  #8badfd;\n",
              "            color:  #000000;\n",
              "        }#T_6645b472_4ca7_11ec_b5ca_0242ac1c0002row6_col0{\n",
              "            background-color:  #485fd1;\n",
              "            color:  #f1f1f1;\n",
              "        }#T_6645b472_4ca7_11ec_b5ca_0242ac1c0002row6_col1{\n",
              "            background-color:  #5470de;\n",
              "            color:  #000000;\n",
              "        }#T_6645b472_4ca7_11ec_b5ca_0242ac1c0002row6_col4{\n",
              "            background-color:  #89acfd;\n",
              "            color:  #000000;\n",
              "        }#T_6645b472_4ca7_11ec_b5ca_0242ac1c0002row6_col5{\n",
              "            background-color:  #6282ea;\n",
              "            color:  #000000;\n",
              "        }#T_6645b472_4ca7_11ec_b5ca_0242ac1c0002row6_col7{\n",
              "            background-color:  #6384eb;\n",
              "            color:  #000000;\n",
              "        }#T_6645b472_4ca7_11ec_b5ca_0242ac1c0002row7_col0{\n",
              "            background-color:  #efcfbf;\n",
              "            color:  #000000;\n",
              "        }#T_6645b472_4ca7_11ec_b5ca_0242ac1c0002row7_col1{\n",
              "            background-color:  #81a4fb;\n",
              "            color:  #000000;\n",
              "        }#T_6645b472_4ca7_11ec_b5ca_0242ac1c0002row7_col5{\n",
              "            background-color:  #3f53c6;\n",
              "            color:  #f1f1f1;\n",
              "        }#T_6645b472_4ca7_11ec_b5ca_0242ac1c0002row7_col8{\n",
              "            background-color:  #7699f6;\n",
              "            color:  #000000;\n",
              "        }#T_6645b472_4ca7_11ec_b5ca_0242ac1c0002row8_col0,#T_6645b472_4ca7_11ec_b5ca_0242ac1c0002row8_col5{\n",
              "            background-color:  #97b8ff;\n",
              "            color:  #000000;\n",
              "        }#T_6645b472_4ca7_11ec_b5ca_0242ac1c0002row8_col1{\n",
              "            background-color:  #cbd8ee;\n",
              "            color:  #000000;\n",
              "        }#T_6645b472_4ca7_11ec_b5ca_0242ac1c0002row8_col2{\n",
              "            background-color:  #4257c9;\n",
              "            color:  #f1f1f1;\n",
              "        }#T_6645b472_4ca7_11ec_b5ca_0242ac1c0002row8_col4{\n",
              "            background-color:  #779af7;\n",
              "            color:  #000000;\n",
              "        }#T_6645b472_4ca7_11ec_b5ca_0242ac1c0002row8_col6{\n",
              "            background-color:  #7b9ff9;\n",
              "            color:  #000000;\n",
              "        }#T_6645b472_4ca7_11ec_b5ca_0242ac1c0002row8_col7{\n",
              "            background-color:  #a3c2fe;\n",
              "            color:  #000000;\n",
              "        }</style><table id=\"T_6645b472_4ca7_11ec_b5ca_0242ac1c0002\" class=\"dataframe\"><thead>    <tr>        <th class=\"blank level0\" ></th>        <th class=\"col_heading level0 col0\" >Pregnancies</th>        <th class=\"col_heading level0 col1\" >Glucose</th>        <th class=\"col_heading level0 col2\" >BloodPressure</th>        <th class=\"col_heading level0 col3\" >SkinThickness</th>        <th class=\"col_heading level0 col4\" >Insulin</th>        <th class=\"col_heading level0 col5\" >BMI</th>        <th class=\"col_heading level0 col6\" >DiabetesPedigreeFunction</th>        <th class=\"col_heading level0 col7\" >Age</th>        <th class=\"col_heading level0 col8\" >Outcome</th>    </tr></thead><tbody>\n",
              "                <tr>\n",
              "                        <th id=\"T_6645b472_4ca7_11ec_b5ca_0242ac1c0002level0_row0\" class=\"row_heading level0 row0\" >Pregnancies</th>\n",
              "                        <td id=\"T_6645b472_4ca7_11ec_b5ca_0242ac1c0002row0_col0\" class=\"data row0 col0\" >1.000000</td>\n",
              "                        <td id=\"T_6645b472_4ca7_11ec_b5ca_0242ac1c0002row0_col1\" class=\"data row0 col1\" >0.129459</td>\n",
              "                        <td id=\"T_6645b472_4ca7_11ec_b5ca_0242ac1c0002row0_col2\" class=\"data row0 col2\" >0.141282</td>\n",
              "                        <td id=\"T_6645b472_4ca7_11ec_b5ca_0242ac1c0002row0_col3\" class=\"data row0 col3\" >-0.081672</td>\n",
              "                        <td id=\"T_6645b472_4ca7_11ec_b5ca_0242ac1c0002row0_col4\" class=\"data row0 col4\" >-0.073535</td>\n",
              "                        <td id=\"T_6645b472_4ca7_11ec_b5ca_0242ac1c0002row0_col5\" class=\"data row0 col5\" >0.017683</td>\n",
              "                        <td id=\"T_6645b472_4ca7_11ec_b5ca_0242ac1c0002row0_col6\" class=\"data row0 col6\" >-0.033523</td>\n",
              "                        <td id=\"T_6645b472_4ca7_11ec_b5ca_0242ac1c0002row0_col7\" class=\"data row0 col7\" >0.544341</td>\n",
              "                        <td id=\"T_6645b472_4ca7_11ec_b5ca_0242ac1c0002row0_col8\" class=\"data row0 col8\" >0.221898</td>\n",
              "            </tr>\n",
              "            <tr>\n",
              "                        <th id=\"T_6645b472_4ca7_11ec_b5ca_0242ac1c0002level0_row1\" class=\"row_heading level0 row1\" >Glucose</th>\n",
              "                        <td id=\"T_6645b472_4ca7_11ec_b5ca_0242ac1c0002row1_col0\" class=\"data row1 col0\" >0.129459</td>\n",
              "                        <td id=\"T_6645b472_4ca7_11ec_b5ca_0242ac1c0002row1_col1\" class=\"data row1 col1\" >1.000000</td>\n",
              "                        <td id=\"T_6645b472_4ca7_11ec_b5ca_0242ac1c0002row1_col2\" class=\"data row1 col2\" >0.152590</td>\n",
              "                        <td id=\"T_6645b472_4ca7_11ec_b5ca_0242ac1c0002row1_col3\" class=\"data row1 col3\" >0.057328</td>\n",
              "                        <td id=\"T_6645b472_4ca7_11ec_b5ca_0242ac1c0002row1_col4\" class=\"data row1 col4\" >0.331357</td>\n",
              "                        <td id=\"T_6645b472_4ca7_11ec_b5ca_0242ac1c0002row1_col5\" class=\"data row1 col5\" >0.221071</td>\n",
              "                        <td id=\"T_6645b472_4ca7_11ec_b5ca_0242ac1c0002row1_col6\" class=\"data row1 col6\" >0.137337</td>\n",
              "                        <td id=\"T_6645b472_4ca7_11ec_b5ca_0242ac1c0002row1_col7\" class=\"data row1 col7\" >0.263514</td>\n",
              "                        <td id=\"T_6645b472_4ca7_11ec_b5ca_0242ac1c0002row1_col8\" class=\"data row1 col8\" >0.466581</td>\n",
              "            </tr>\n",
              "            <tr>\n",
              "                        <th id=\"T_6645b472_4ca7_11ec_b5ca_0242ac1c0002level0_row2\" class=\"row_heading level0 row2\" >BloodPressure</th>\n",
              "                        <td id=\"T_6645b472_4ca7_11ec_b5ca_0242ac1c0002row2_col0\" class=\"data row2 col0\" >0.141282</td>\n",
              "                        <td id=\"T_6645b472_4ca7_11ec_b5ca_0242ac1c0002row2_col1\" class=\"data row2 col1\" >0.152590</td>\n",
              "                        <td id=\"T_6645b472_4ca7_11ec_b5ca_0242ac1c0002row2_col2\" class=\"data row2 col2\" >1.000000</td>\n",
              "                        <td id=\"T_6645b472_4ca7_11ec_b5ca_0242ac1c0002row2_col3\" class=\"data row2 col3\" >0.207371</td>\n",
              "                        <td id=\"T_6645b472_4ca7_11ec_b5ca_0242ac1c0002row2_col4\" class=\"data row2 col4\" >0.088933</td>\n",
              "                        <td id=\"T_6645b472_4ca7_11ec_b5ca_0242ac1c0002row2_col5\" class=\"data row2 col5\" >0.281805</td>\n",
              "                        <td id=\"T_6645b472_4ca7_11ec_b5ca_0242ac1c0002row2_col6\" class=\"data row2 col6\" >0.041265</td>\n",
              "                        <td id=\"T_6645b472_4ca7_11ec_b5ca_0242ac1c0002row2_col7\" class=\"data row2 col7\" >0.239528</td>\n",
              "                        <td id=\"T_6645b472_4ca7_11ec_b5ca_0242ac1c0002row2_col8\" class=\"data row2 col8\" >0.065068</td>\n",
              "            </tr>\n",
              "            <tr>\n",
              "                        <th id=\"T_6645b472_4ca7_11ec_b5ca_0242ac1c0002level0_row3\" class=\"row_heading level0 row3\" >SkinThickness</th>\n",
              "                        <td id=\"T_6645b472_4ca7_11ec_b5ca_0242ac1c0002row3_col0\" class=\"data row3 col0\" >-0.081672</td>\n",
              "                        <td id=\"T_6645b472_4ca7_11ec_b5ca_0242ac1c0002row3_col1\" class=\"data row3 col1\" >0.057328</td>\n",
              "                        <td id=\"T_6645b472_4ca7_11ec_b5ca_0242ac1c0002row3_col2\" class=\"data row3 col2\" >0.207371</td>\n",
              "                        <td id=\"T_6645b472_4ca7_11ec_b5ca_0242ac1c0002row3_col3\" class=\"data row3 col3\" >1.000000</td>\n",
              "                        <td id=\"T_6645b472_4ca7_11ec_b5ca_0242ac1c0002row3_col4\" class=\"data row3 col4\" >0.436783</td>\n",
              "                        <td id=\"T_6645b472_4ca7_11ec_b5ca_0242ac1c0002row3_col5\" class=\"data row3 col5\" >0.392573</td>\n",
              "                        <td id=\"T_6645b472_4ca7_11ec_b5ca_0242ac1c0002row3_col6\" class=\"data row3 col6\" >0.183928</td>\n",
              "                        <td id=\"T_6645b472_4ca7_11ec_b5ca_0242ac1c0002row3_col7\" class=\"data row3 col7\" >-0.113970</td>\n",
              "                        <td id=\"T_6645b472_4ca7_11ec_b5ca_0242ac1c0002row3_col8\" class=\"data row3 col8\" >0.074752</td>\n",
              "            </tr>\n",
              "            <tr>\n",
              "                        <th id=\"T_6645b472_4ca7_11ec_b5ca_0242ac1c0002level0_row4\" class=\"row_heading level0 row4\" >Insulin</th>\n",
              "                        <td id=\"T_6645b472_4ca7_11ec_b5ca_0242ac1c0002row4_col0\" class=\"data row4 col0\" >-0.073535</td>\n",
              "                        <td id=\"T_6645b472_4ca7_11ec_b5ca_0242ac1c0002row4_col1\" class=\"data row4 col1\" >0.331357</td>\n",
              "                        <td id=\"T_6645b472_4ca7_11ec_b5ca_0242ac1c0002row4_col2\" class=\"data row4 col2\" >0.088933</td>\n",
              "                        <td id=\"T_6645b472_4ca7_11ec_b5ca_0242ac1c0002row4_col3\" class=\"data row4 col3\" >0.436783</td>\n",
              "                        <td id=\"T_6645b472_4ca7_11ec_b5ca_0242ac1c0002row4_col4\" class=\"data row4 col4\" >1.000000</td>\n",
              "                        <td id=\"T_6645b472_4ca7_11ec_b5ca_0242ac1c0002row4_col5\" class=\"data row4 col5\" >0.197859</td>\n",
              "                        <td id=\"T_6645b472_4ca7_11ec_b5ca_0242ac1c0002row4_col6\" class=\"data row4 col6\" >0.185071</td>\n",
              "                        <td id=\"T_6645b472_4ca7_11ec_b5ca_0242ac1c0002row4_col7\" class=\"data row4 col7\" >-0.042163</td>\n",
              "                        <td id=\"T_6645b472_4ca7_11ec_b5ca_0242ac1c0002row4_col8\" class=\"data row4 col8\" >0.130548</td>\n",
              "            </tr>\n",
              "            <tr>\n",
              "                        <th id=\"T_6645b472_4ca7_11ec_b5ca_0242ac1c0002level0_row5\" class=\"row_heading level0 row5\" >BMI</th>\n",
              "                        <td id=\"T_6645b472_4ca7_11ec_b5ca_0242ac1c0002row5_col0\" class=\"data row5 col0\" >0.017683</td>\n",
              "                        <td id=\"T_6645b472_4ca7_11ec_b5ca_0242ac1c0002row5_col1\" class=\"data row5 col1\" >0.221071</td>\n",
              "                        <td id=\"T_6645b472_4ca7_11ec_b5ca_0242ac1c0002row5_col2\" class=\"data row5 col2\" >0.281805</td>\n",
              "                        <td id=\"T_6645b472_4ca7_11ec_b5ca_0242ac1c0002row5_col3\" class=\"data row5 col3\" >0.392573</td>\n",
              "                        <td id=\"T_6645b472_4ca7_11ec_b5ca_0242ac1c0002row5_col4\" class=\"data row5 col4\" >0.197859</td>\n",
              "                        <td id=\"T_6645b472_4ca7_11ec_b5ca_0242ac1c0002row5_col5\" class=\"data row5 col5\" >1.000000</td>\n",
              "                        <td id=\"T_6645b472_4ca7_11ec_b5ca_0242ac1c0002row5_col6\" class=\"data row5 col6\" >0.140647</td>\n",
              "                        <td id=\"T_6645b472_4ca7_11ec_b5ca_0242ac1c0002row5_col7\" class=\"data row5 col7\" >0.036242</td>\n",
              "                        <td id=\"T_6645b472_4ca7_11ec_b5ca_0242ac1c0002row5_col8\" class=\"data row5 col8\" >0.292695</td>\n",
              "            </tr>\n",
              "            <tr>\n",
              "                        <th id=\"T_6645b472_4ca7_11ec_b5ca_0242ac1c0002level0_row6\" class=\"row_heading level0 row6\" >DiabetesPedigreeFunction</th>\n",
              "                        <td id=\"T_6645b472_4ca7_11ec_b5ca_0242ac1c0002row6_col0\" class=\"data row6 col0\" >-0.033523</td>\n",
              "                        <td id=\"T_6645b472_4ca7_11ec_b5ca_0242ac1c0002row6_col1\" class=\"data row6 col1\" >0.137337</td>\n",
              "                        <td id=\"T_6645b472_4ca7_11ec_b5ca_0242ac1c0002row6_col2\" class=\"data row6 col2\" >0.041265</td>\n",
              "                        <td id=\"T_6645b472_4ca7_11ec_b5ca_0242ac1c0002row6_col3\" class=\"data row6 col3\" >0.183928</td>\n",
              "                        <td id=\"T_6645b472_4ca7_11ec_b5ca_0242ac1c0002row6_col4\" class=\"data row6 col4\" >0.185071</td>\n",
              "                        <td id=\"T_6645b472_4ca7_11ec_b5ca_0242ac1c0002row6_col5\" class=\"data row6 col5\" >0.140647</td>\n",
              "                        <td id=\"T_6645b472_4ca7_11ec_b5ca_0242ac1c0002row6_col6\" class=\"data row6 col6\" >1.000000</td>\n",
              "                        <td id=\"T_6645b472_4ca7_11ec_b5ca_0242ac1c0002row6_col7\" class=\"data row6 col7\" >0.033561</td>\n",
              "                        <td id=\"T_6645b472_4ca7_11ec_b5ca_0242ac1c0002row6_col8\" class=\"data row6 col8\" >0.173844</td>\n",
              "            </tr>\n",
              "            <tr>\n",
              "                        <th id=\"T_6645b472_4ca7_11ec_b5ca_0242ac1c0002level0_row7\" class=\"row_heading level0 row7\" >Age</th>\n",
              "                        <td id=\"T_6645b472_4ca7_11ec_b5ca_0242ac1c0002row7_col0\" class=\"data row7 col0\" >0.544341</td>\n",
              "                        <td id=\"T_6645b472_4ca7_11ec_b5ca_0242ac1c0002row7_col1\" class=\"data row7 col1\" >0.263514</td>\n",
              "                        <td id=\"T_6645b472_4ca7_11ec_b5ca_0242ac1c0002row7_col2\" class=\"data row7 col2\" >0.239528</td>\n",
              "                        <td id=\"T_6645b472_4ca7_11ec_b5ca_0242ac1c0002row7_col3\" class=\"data row7 col3\" >-0.113970</td>\n",
              "                        <td id=\"T_6645b472_4ca7_11ec_b5ca_0242ac1c0002row7_col4\" class=\"data row7 col4\" >-0.042163</td>\n",
              "                        <td id=\"T_6645b472_4ca7_11ec_b5ca_0242ac1c0002row7_col5\" class=\"data row7 col5\" >0.036242</td>\n",
              "                        <td id=\"T_6645b472_4ca7_11ec_b5ca_0242ac1c0002row7_col6\" class=\"data row7 col6\" >0.033561</td>\n",
              "                        <td id=\"T_6645b472_4ca7_11ec_b5ca_0242ac1c0002row7_col7\" class=\"data row7 col7\" >1.000000</td>\n",
              "                        <td id=\"T_6645b472_4ca7_11ec_b5ca_0242ac1c0002row7_col8\" class=\"data row7 col8\" >0.238356</td>\n",
              "            </tr>\n",
              "            <tr>\n",
              "                        <th id=\"T_6645b472_4ca7_11ec_b5ca_0242ac1c0002level0_row8\" class=\"row_heading level0 row8\" >Outcome</th>\n",
              "                        <td id=\"T_6645b472_4ca7_11ec_b5ca_0242ac1c0002row8_col0\" class=\"data row8 col0\" >0.221898</td>\n",
              "                        <td id=\"T_6645b472_4ca7_11ec_b5ca_0242ac1c0002row8_col1\" class=\"data row8 col1\" >0.466581</td>\n",
              "                        <td id=\"T_6645b472_4ca7_11ec_b5ca_0242ac1c0002row8_col2\" class=\"data row8 col2\" >0.065068</td>\n",
              "                        <td id=\"T_6645b472_4ca7_11ec_b5ca_0242ac1c0002row8_col3\" class=\"data row8 col3\" >0.074752</td>\n",
              "                        <td id=\"T_6645b472_4ca7_11ec_b5ca_0242ac1c0002row8_col4\" class=\"data row8 col4\" >0.130548</td>\n",
              "                        <td id=\"T_6645b472_4ca7_11ec_b5ca_0242ac1c0002row8_col5\" class=\"data row8 col5\" >0.292695</td>\n",
              "                        <td id=\"T_6645b472_4ca7_11ec_b5ca_0242ac1c0002row8_col6\" class=\"data row8 col6\" >0.173844</td>\n",
              "                        <td id=\"T_6645b472_4ca7_11ec_b5ca_0242ac1c0002row8_col7\" class=\"data row8 col7\" >0.238356</td>\n",
              "                        <td id=\"T_6645b472_4ca7_11ec_b5ca_0242ac1c0002row8_col8\" class=\"data row8 col8\" >1.000000</td>\n",
              "            </tr>\n",
              "    </tbody></table>"
            ],
            "text/plain": [
              "<pandas.io.formats.style.Styler at 0x7fe98a209c90>"
            ]
          },
          "metadata": {},
          "execution_count": 16
        }
      ]
    },
    {
      "cell_type": "code",
      "metadata": {
        "colab": {
          "base_uri": "https://localhost:8080/",
          "height": 390
        },
        "id": "agmCOBmNx4Jj",
        "outputId": "33e7fe4d-dc73-443d-c26a-510f7cce935e"
      },
      "source": [
        "_ = sns.heatmap(corr_df, xticklabels=corr_df.columns, yticklabels=corr_df.columns, annot=True)"
      ],
      "execution_count": 17,
      "outputs": [
        {
          "output_type": "display_data",
          "data": {
            "image/png": "[encoded data removed]",
            "text/plain": [
              "<Figure size 432x288 with 2 Axes>"
            ]
          },
          "metadata": {
            "needs_background": "light"
          }
        }
      ]
    },
    {
      "cell_type": "code",
      "metadata": {
        "colab": {
          "base_uri": "https://localhost:8080/",
          "height": 838
        },
        "id": "rA547NK-x7AD",
        "outputId": "918e5e1a-14bd-42bf-c8bd-068aed9af28e"
      },
      "source": [
        "fig = plt.figure(figsize = (14, 12))\n",
        "plt.matshow(corr_df, fignum = fig.number)\n",
        "plt.xticks(range(dataset.shape[1]), dataset.columns, fontsize = 12, rotation = 55)\n",
        "plt.yticks(range(dataset.shape[1]), dataset.columns, fontsize = 14)\n",
        "cb = plt.colorbar()\n",
        "cb.ax.tick_params(labelsize = 14)\n",
        "plt.title('Correlation Matrix', fontsize = 20)"
      ],
      "execution_count": 18,
      "outputs": [
        {
          "output_type": "execute_result",
          "data": {
            "text/plain": [
              "Text(0.5, 1.05, 'Correlation Matrix')"
            ]
          },
          "metadata": {},
          "execution_count": 18
        },
        {
          "output_type": "display_data",
          "data": {
            "image/png": "[encoded data removed]",
            "text/plain": [
              "<Figure size 1008x864 with 2 Axes>"
            ]
          },
          "metadata": {
            "needs_background": "light"
          }
        }
      ]
    },
    {
      "cell_type": "code",
      "metadata": {
        "colab": {
          "base_uri": "https://localhost:8080/",
          "height": 542
        },
        "id": "wlO8Bhi_x_L5",
        "outputId": "80e63092-0055-4c01-8e62-ecd3616e194d"
      },
      "source": [
        "var_grafico = px.scatter(dataset, 'Glucose', 'BMI', 'Outcome')\n",
        "var_grafico.show()"
      ],
      "execution_count": 19,
      "outputs": [
        {
          "output_type": "display_data",
          "data": {
            "text/html": [
              "<html>\n",
              "<head><meta charset=\"utf-8\" /></head>\n",
              "<body>\n",
              "    <div>\n",
              "            <script src=\"https://cdnjs.cloudflare.com/ajax/libs/mathjax/2.7.5/MathJax.js?config=TeX-AMS-MML_SVG\"></script><script type=\"text/javascript\">if (window.MathJax) {MathJax.Hub.Config({SVG: {font: \"STIX-Web\"}});}</script>\n",
              "                <script type=\"text/javascript\">window.PlotlyConfig = {MathJaxConfig: 'local'};</script>\n",
              "        <script src=\"https://cdn.plot.ly/plotly-latest.min.js\"></script>    \n",
              "            <div id=\"93c4eb26-d685-4334-81fd-d61126b82202\" class=\"plotly-graph-div\" style=\"height:525px; width:100%;\"></div>\n",
              "            <script type=\"text/javascript\">\n",
              "                \n",
              "                    window.PLOTLYENV=window.PLOTLYENV || {};\n",
              "                    \n",
              "                if (document.getElementById(\"93c4eb26-d685-4334-81fd-d61126b82202\")) {\n",
              "                    Plotly.newPlot(\n",
              "                        '93c4eb26-d685-4334-81fd-d61126b82202',\n",
              "                        [{\"hoverlabel\": {\"namelength\": 0}, \"hovertemplate\": \"Glucose=%{x}<br>BMI=%{y}<br>Outcome=%{marker.color}\", \"legendgroup\": \"\", \"marker\": {\"color\": [1, 0, 1, 0, 1, 0, 1, 0, 1, 1, 0, 1, 0, 1, 1, 1, 1, 1, 0, 1, 0, 0, 1, 1, 1, 1, 1, 0, 0, 0, 0, 1, 0, 0, 0, 0, 0, 1, 1, 1, 0, 0, 0, 1, 0, 1, 0, 0, 1, 0, 0, 0, 0, 1, 0, 0, 1, 0, 0, 0, 0, 1, 0, 0, 1, 0, 1, 0, 0, 0, 1, 0, 1, 0, 0, 0, 0, 0, 1, 0, 0, 0, 0, 0, 1, 0, 0, 0, 1, 0, 0, 0, 0, 1, 0, 0, 0, 0, 0, 1, 1, 0, 0, 0, 0, 0, 0, 0, 0, 1, 1, 1, 0, 0, 1, 1, 1, 0, 0, 0, 1, 0, 0, 0, 1, 1, 0, 0, 1, 1, 1, 1, 1, 0, 0, 0, 0, 0, 0, 0, 0, 0, 0, 1, 0, 0, 0, 0, 0, 0, 0, 0, 1, 0, 1, 1, 0, 0, 0, 1, 0, 0, 0, 0, 1, 1, 0, 0, 0, 0, 1, 1, 0, 0, 0, 1, 0, 1, 0, 1, 0, 0, 0, 0, 0, 1, 1, 1, 1, 1, 0, 0, 1, 1, 0, 1, 0, 1, 1, 1, 0, 0, 0, 0, 0, 0, 1, 1, 0, 1, 0, 0, 0, 1, 1, 1, 1, 0, 1, 1, 1, 1, 0, 0, 0, 0, 0, 1, 0, 0, 1, 1, 0, 0, 0, 1, 1, 1, 1, 0, 0, 0, 1, 1, 0, 1, 0, 0, 0, 0, 0, 0, 0, 0, 1, 1, 0, 0, 0, 1, 0, 1, 0, 0, 1, 0, 1, 0, 0, 1, 1, 0, 0, 0, 0, 0, 1, 0, 0, 0, 1, 0, 0, 1, 1, 0, 0, 1, 0, 0, 0, 1, 1, 1, 0, 0, 1, 0, 1, 0, 1, 1, 0, 1, 0, 0, 1, 0, 1, 1, 0, 0, 1, 0, 1, 0, 0, 1, 0, 1, 0, 1, 1, 1, 0, 0, 1, 0, 1, 0, 0, 0, 1, 0, 0, 0, 0, 1, 1, 1, 0, 0, 0, 0, 0, 0, 0, 0, 0, 1, 0, 0, 0, 0, 0, 1, 1, 1, 0, 1, 1, 0, 0, 1, 0, 0, 1, 0, 0, 1, 1, 0, 0, 0, 0, 1, 0, 0, 1, 0, 0, 0, 0, 0, 0, 0, 1, 1, 1, 0, 0, 1, 0, 0, 1, 0, 0, 1, 0, 1, 1, 0, 1, 0, 1, 0, 1, 0, 1, 1, 0, 0, 0, 0, 1, 1, 0, 1, 0, 1, 0, 0, 0, 0, 1, 1, 0, 1, 0, 1, 0, 0, 0, 0, 0, 1, 0, 0, 0, 0, 1, 0, 0, 1, 1, 1, 0, 0, 1, 0, 0, 1, 0, 0, 0, 1, 0, 0, 1, 0, 0, 0, 0, 0, 0, 0, 0, 0, 1, 0, 0, 0, 0, 0, 0, 0, 1, 0, 0, 0, 1, 0, 0, 0, 1, 1, 0, 0, 0, 0, 0, 0, 0, 1, 0, 0, 0, 0, 1, 0, 0, 0, 1, 0, 0, 0, 1, 0, 0, 0, 1, 0, 0, 0, 0, 1, 1, 0, 0, 0, 0, 0, 0, 1, 0, 0, 0, 0, 0, 0, 0, 0, 0, 0, 0, 1, 0, 0, 0, 1, 1, 1, 1, 0, 0, 1, 1, 0, 0, 0, 0, 0, 0, 0, 0, 0, 0, 0, 0, 0, 1, 1, 0, 0, 0, 0, 0, 0, 0, 1, 0, 0, 0, 0, 0, 0, 0, 1, 0, 1, 1, 0, 0, 0, 1, 0, 1, 0, 1, 0, 1, 0, 1, 0, 0, 1, 0, 0, 1, 0, 0, 0, 0, 1, 1, 0, 1, 0, 0, 0, 0, 1, 1, 0, 1, 0, 0, 0, 1, 1, 0, 0, 0, 0, 0, 0, 0, 0, 0, 0, 1, 0, 0, 0, 0, 1, 0, 0, 1, 0, 0, 0, 1, 0, 0, 0, 1, 1, 1, 0, 0, 0, 0, 0, 0, 1, 0, 0, 0, 1, 0, 1, 1, 1, 1, 0, 1, 1, 0, 0, 0, 0, 0, 0, 0, 1, 1, 0, 1, 0, 0, 1, 0, 1, 0, 0, 0, 0, 0, 1, 0, 1, 0, 1, 0, 1, 1, 0, 0, 0, 0, 1, 1, 0, 0, 0, 1, 0, 1, 1, 0, 0, 1, 0, 0, 1, 1, 0, 0, 1, 0, 0, 1, 0, 0, 0, 0, 0, 0, 0, 1, 1, 1, 0, 0, 0, 0, 0, 0, 1, 1, 0, 0, 1, 0, 0, 1, 0, 1, 1, 1, 0, 0, 1, 1, 1, 0, 1, 0, 1, 0, 1, 0, 0, 0, 0, 1, 0], \"coloraxis\": \"coloraxis\", \"symbol\": \"circle\"}, \"mode\": \"markers\", \"name\": \"\", \"showlegend\": false, \"type\": \"scatter\", \"x\": [148, 85, 183, 89, 137, 116, 78, 115, 197, 125, 110, 168, 139, 189, 166, 100, 118, 107, 103, 115, 126, 99, 196, 119, 143, 125, 147, 97, 145, 117, 109, 158, 88, 92, 122, 103, 138, 102, 90, 111, 180, 133, 106, 171, 159, 180, 146, 71, 103, 105, 103, 101, 88, 176, 150, 73, 187, 100, 146, 105, 84, 133, 44, 141, 114, 99, 109, 109, 95, 146, 100, 139, 126, 129, 79, 0, 62, 95, 131, 112, 113, 74, 83, 101, 137, 110, 106, 100, 136, 107, 80, 123, 81, 134, 142, 144, 92, 71, 93, 122, 163, 151, 125, 81, 85, 126, 96, 144, 83, 95, 171, 155, 89, 76, 160, 146, 124, 78, 97, 99, 162, 111, 107, 132, 113, 88, 120, 118, 117, 105, 173, 122, 170, 84, 96, 125, 100, 93, 129, 105, 128, 106, 108, 108, 154, 102, 57, 106, 147, 90, 136, 114, 156, 153, 188, 152, 99, 109, 88, 163, 151, 102, 114, 100, 131, 104, 148, 120, 110, 111, 102, 134, 87, 79, 75, 179, 85, 129, 143, 130, 87, 119, 0, 73, 141, 194, 181, 128, 109, 139, 111, 123, 159, 135, 85, 158, 105, 107, 109, 148, 113, 138, 108, 99, 103, 111, 196, 162, 96, 184, 81, 147, 179, 140, 112, 151, 109, 125, 85, 112, 177, 158, 119, 142, 100, 87, 101, 162, 197, 117, 142, 134, 79, 122, 74, 171, 181, 179, 164, 104, 91, 91, 139, 119, 146, 184, 122, 165, 124, 111, 106, 129, 90, 86, 92, 113, 111, 114, 193, 155, 191, 141, 95, 142, 123, 96, 138, 128, 102, 146, 101, 108, 122, 71, 106, 100, 106, 104, 114, 108, 146, 129, 133, 161, 108, 136, 155, 119, 96, 108, 78, 107, 128, 128, 161, 151, 146, 126, 100, 112, 167, 144, 77, 115, 150, 120, 161, 137, 128, 124, 80, 106, 155, 113, 109, 112, 99, 182, 115, 194, 129, 112, 124, 152, 112, 157, 122, 179, 102, 105, 118, 87, 180, 106, 95, 165, 117, 115, 152, 178, 130, 95, 0, 122, 95, 126, 139, 116, 99, 0, 92, 137, 61, 90, 90, 165, 125, 129, 88, 196, 189, 158, 103, 146, 147, 99, 124, 101, 81, 133, 173, 118, 84, 105, 122, 140, 98, 87, 156, 93, 107, 105, 109, 90, 125, 119, 116, 105, 144, 100, 100, 166, 131, 116, 158, 127, 96, 131, 82, 193, 95, 137, 136, 72, 168, 123, 115, 101, 197, 172, 102, 112, 143, 143, 138, 173, 97, 144, 83, 129, 119, 94, 102, 115, 151, 184, 94, 181, 135, 95, 99, 89, 80, 139, 90, 141, 140, 147, 97, 107, 189, 83, 117, 108, 117, 180, 100, 95, 104, 120, 82, 134, 91, 119, 100, 175, 135, 86, 148, 134, 120, 71, 74, 88, 115, 124, 74, 97, 120, 154, 144, 137, 119, 136, 114, 137, 105, 114, 126, 132, 158, 123, 85, 84, 145, 135, 139, 173, 99, 194, 83, 89, 99, 125, 80, 166, 110, 81, 195, 154, 117, 84, 0, 94, 96, 75, 180, 130, 84, 120, 84, 139, 91, 91, 99, 163, 145, 125, 76, 129, 68, 124, 114, 130, 125, 87, 97, 116, 117, 111, 122, 107, 86, 91, 77, 132, 105, 57, 127, 129, 100, 128, 90, 84, 88, 186, 187, 131, 164, 189, 116, 84, 114, 88, 84, 124, 97, 110, 103, 85, 125, 198, 87, 99, 91, 95, 99, 92, 154, 121, 78, 130, 111, 98, 143, 119, 108, 118, 133, 197, 151, 109, 121, 100, 124, 93, 143, 103, 176, 73, 111, 112, 132, 82, 123, 188, 67, 89, 173, 109, 108, 96, 124, 150, 183, 124, 181, 92, 152, 111, 106, 174, 168, 105, 138, 106, 117, 68, 112, 119, 112, 92, 183, 94, 108, 90, 125, 132, 128, 94, 114, 102, 111, 128, 92, 104, 104, 94, 97, 100, 102, 128, 147, 90, 103, 157, 167, 179, 136, 107, 91, 117, 123, 120, 106, 155, 101, 120, 127, 80, 162, 199, 167, 145, 115, 112, 145, 111, 98, 154, 165, 99, 68, 123, 91, 195, 156, 93, 121, 101, 56, 162, 95, 125, 136, 129, 130, 107, 140, 144, 107, 158, 121, 129, 90, 142, 169, 99, 127, 118, 122, 125, 168, 129, 110, 80, 115, 127, 164, 93, 158, 126, 129, 134, 102, 187, 173, 94, 108, 97, 83, 114, 149, 117, 111, 112, 116, 141, 175, 92, 130, 120, 174, 106, 105, 95, 126, 65, 99, 102, 120, 102, 109, 140, 153, 100, 147, 81, 187, 162, 136, 121, 108, 181, 154, 128, 137, 123, 106, 190, 88, 170, 89, 101, 122, 121, 126, 93], \"xaxis\": \"x\", \"y\": [33.6, 26.6, 23.3, 28.1, 43.1, 25.6, 31.0, 35.3, 30.5, 0.0, 37.6, 38.0, 27.1, 30.1, 25.8, 30.0, 45.8, 29.6, 43.3, 34.6, 39.3, 35.4, 39.8, 29.0, 36.6, 31.1, 39.4, 23.2, 22.2, 34.1, 36.0, 31.6, 24.8, 19.9, 27.6, 24.0, 33.2, 32.9, 38.2, 37.1, 34.0, 40.2, 22.7, 45.4, 27.4, 42.0, 29.7, 28.0, 39.1, 0.0, 19.4, 24.2, 24.4, 33.7, 34.7, 23.0, 37.7, 46.8, 40.5, 41.5, 0.0, 32.9, 25.0, 25.4, 32.8, 29.0, 32.5, 42.7, 19.6, 28.9, 32.9, 28.6, 43.4, 35.1, 32.0, 24.7, 32.6, 37.7, 43.2, 25.0, 22.4, 0.0, 29.3, 24.6, 48.8, 32.4, 36.6, 38.5, 37.1, 26.5, 19.1, 32.0, 46.7, 23.8, 24.7, 33.9, 31.6, 20.4, 28.7, 49.7, 39.0, 26.1, 22.5, 26.6, 39.6, 28.7, 22.4, 29.5, 34.3, 37.4, 33.3, 34.0, 31.2, 34.0, 30.5, 31.2, 34.0, 33.7, 28.2, 23.2, 53.2, 34.2, 33.6, 26.8, 33.3, 55.0, 42.9, 33.3, 34.5, 27.9, 29.7, 33.3, 34.5, 38.3, 21.1, 33.8, 30.8, 28.7, 31.2, 36.9, 21.1, 39.5, 32.5, 32.4, 32.8, 0.0, 32.8, 30.5, 33.7, 27.3, 37.4, 21.9, 34.3, 40.6, 47.9, 50.0, 24.6, 25.2, 29.0, 40.9, 29.7, 37.2, 44.2, 29.7, 31.6, 29.9, 32.5, 29.6, 31.9, 28.4, 30.8, 35.4, 28.9, 43.5, 29.7, 32.7, 31.2, 67.1, 45.0, 39.1, 23.2, 34.9, 27.7, 26.8, 27.6, 35.9, 30.1, 32.0, 27.9, 31.6, 22.6, 33.1, 30.4, 52.3, 24.4, 39.4, 24.3, 22.9, 34.8, 30.9, 31.0, 40.1, 27.3, 20.4, 37.7, 23.9, 37.5, 37.7, 33.2, 35.5, 27.7, 42.8, 34.2, 42.6, 34.2, 41.8, 35.8, 30.0, 29.0, 37.8, 34.6, 31.6, 25.2, 28.8, 23.6, 34.6, 35.7, 37.2, 36.7, 45.2, 44.0, 46.2, 25.4, 35.0, 29.7, 43.6, 35.9, 44.1, 30.8, 18.4, 29.2, 33.1, 25.6, 27.1, 38.2, 30.0, 31.2, 52.3, 35.4, 30.1, 31.2, 28.0, 24.4, 35.8, 27.6, 33.6, 30.1, 28.7, 25.9, 33.3, 30.9, 30.0, 32.1, 32.4, 32.0, 33.6, 36.3, 40.0, 25.1, 27.5, 45.6, 25.2, 23.0, 33.2, 34.2, 40.5, 26.5, 27.8, 24.9, 25.3, 37.9, 35.9, 32.4, 30.4, 27.0, 26.0, 38.7, 45.6, 20.8, 36.1, 36.9, 36.6, 43.3, 40.5, 21.9, 35.5, 28.0, 30.7, 36.6, 23.6, 32.3, 31.6, 35.8, 52.9, 21.0, 39.7, 25.5, 24.8, 30.5, 32.9, 26.2, 39.4, 26.6, 29.5, 35.9, 34.1, 19.3, 30.5, 38.1, 23.5, 27.5, 31.6, 27.4, 26.8, 35.7, 25.6, 35.1, 35.1, 45.5, 30.8, 23.1, 32.7, 43.3, 23.6, 23.9, 47.9, 33.8, 31.2, 34.2, 39.9, 25.9, 25.9, 32.0, 34.7, 36.8, 38.5, 28.7, 23.5, 21.8, 41.0, 42.2, 31.2, 34.4, 27.2, 42.7, 30.4, 33.3, 39.9, 35.3, 36.5, 31.2, 29.8, 39.2, 38.5, 34.9, 34.0, 27.6, 21.0, 27.5, 32.8, 38.4, 0.0, 35.8, 34.9, 36.2, 39.2, 25.2, 37.2, 48.3, 43.4, 30.8, 20.0, 25.4, 25.1, 24.3, 22.3, 32.3, 43.3, 32.0, 31.6, 32.0, 45.7, 23.7, 22.1, 32.9, 27.7, 24.7, 34.3, 21.1, 34.9, 32.0, 24.2, 35.0, 31.6, 32.9, 42.1, 28.9, 21.9, 25.9, 42.4, 35.7, 34.4, 42.4, 26.2, 34.6, 35.7, 27.2, 38.5, 18.2, 26.4, 45.3, 26.0, 40.6, 30.8, 42.9, 37.0, 0.0, 34.1, 40.6, 35.0, 22.2, 30.4, 30.0, 25.6, 24.5, 42.4, 37.4, 29.9, 18.2, 36.8, 34.3, 32.2, 33.2, 30.5, 29.7, 59.4, 25.3, 36.5, 33.6, 30.5, 21.2, 28.9, 39.9, 19.6, 37.8, 33.6, 26.7, 30.2, 37.6, 25.9, 20.8, 21.8, 35.3, 27.6, 24.0, 21.8, 27.8, 36.8, 30.0, 46.1, 41.3, 33.2, 38.8, 29.9, 28.9, 27.3, 33.7, 23.8, 25.9, 28.0, 35.5, 35.2, 27.8, 38.2, 44.2, 42.3, 40.7, 46.5, 25.6, 26.1, 36.8, 33.5, 32.8, 28.9, 0.0, 26.6, 26.0, 30.1, 25.1, 29.3, 25.2, 37.2, 39.0, 33.3, 37.3, 33.3, 36.5, 28.6, 30.4, 25.0, 29.7, 22.1, 24.2, 27.3, 25.6, 31.6, 30.3, 37.6, 32.8, 19.6, 25.0, 33.2, 0.0, 34.2, 31.6, 21.8, 18.2, 26.3, 30.8, 24.6, 29.8, 45.3, 41.3, 29.8, 33.3, 32.9, 29.6, 21.7, 36.3, 36.4, 39.4, 32.4, 34.9, 39.5, 32.0, 34.5, 43.6, 33.1, 32.8, 28.5, 27.4, 31.9, 27.8, 29.9, 36.9, 25.5, 38.1, 27.8, 46.2, 30.1, 33.8, 41.3, 37.6, 26.9, 32.4, 26.1, 38.6, 32.0, 31.3, 34.3, 32.5, 22.6, 29.5, 34.7, 30.1, 35.5, 24.0, 42.9, 27.0, 34.7, 42.1, 25.0, 26.5, 38.7, 28.7, 22.5, 34.9, 24.3, 33.3, 21.1, 46.8, 39.4, 34.4, 28.5, 33.6, 32.0, 45.3, 27.8, 36.8, 23.1, 27.1, 23.7, 27.8, 35.2, 28.4, 35.8, 40.0, 19.5, 41.5, 24.0, 30.9, 32.9, 38.2, 32.5, 36.1, 25.8, 28.7, 20.1, 28.2, 32.4, 38.4, 24.2, 40.8, 43.5, 30.8, 37.7, 24.7, 32.4, 34.6, 24.7, 27.4, 34.5, 26.2, 27.5, 25.9, 31.2, 28.8, 31.6, 40.9, 19.5, 29.3, 34.3, 29.5, 28.0, 27.6, 39.4, 23.4, 37.8, 28.3, 26.4, 25.2, 33.8, 34.1, 26.8, 34.2, 38.7, 21.8, 38.9, 39.0, 34.2, 27.7, 42.9, 37.6, 37.9, 33.7, 34.8, 32.5, 27.5, 34.0, 30.9, 33.6, 25.4, 35.5, 57.3, 35.6, 30.9, 24.8, 35.3, 36.0, 24.2, 24.2, 49.6, 44.6, 32.3, 0.0, 33.2, 23.1, 28.3, 24.1, 46.1, 24.6, 42.3, 39.1, 38.5, 23.5, 30.4, 29.9, 25.0, 34.5, 44.5, 35.9, 27.6, 35.0, 38.5, 28.4, 39.8, 0.0, 34.4, 32.8, 38.0, 31.2, 29.6, 41.2, 26.4, 29.5, 33.9, 33.8, 23.1, 35.5, 35.6, 29.3, 38.1, 29.3, 39.1, 32.8, 39.4, 36.1, 32.4, 22.9, 30.1, 28.4, 28.4, 44.5, 29.0, 23.3, 35.4, 27.4, 32.0, 36.6, 39.5, 42.3, 30.8, 28.5, 32.7, 40.6, 30.0, 49.3, 46.3, 36.4, 24.3, 31.2, 39.0, 26.0, 43.3, 32.4, 36.5, 32.0, 36.3, 37.5, 35.5, 28.4, 44.0, 22.5, 32.9, 36.8, 26.2, 30.1, 30.4], \"yaxis\": \"y\"}],\n",
              "                        {\"coloraxis\": {\"colorbar\": {\"title\": {\"text\": \"Outcome\"}}, \"colorscale\": [[0.0, \"#0d0887\"], [0.1111111111111111, \"#46039f\"], [0.2222222222222222, \"#7201a8\"], [0.3333333333333333, \"#9c179e\"], [0.4444444444444444, \"#bd3786\"], [0.5555555555555556, \"#d8576b\"], [0.6666666666666666, \"#ed7953\"], [0.7777777777777778, \"#fb9f3a\"], [0.8888888888888888, \"#fdca26\"], [1.0, \"#f0f921\"]]}, \"legend\": {\"tracegroupgap\": 0}, \"margin\": {\"t\": 60}, \"template\": {\"data\": {\"bar\": [{\"error_x\": {\"color\": \"#2a3f5f\"}, \"error_y\": {\"color\": \"#2a3f5f\"}, \"marker\": {\"line\": {\"color\": \"#E5ECF6\", \"width\": 0.5}}, \"type\": \"bar\"}], \"barpolar\": [{\"marker\": {\"line\": {\"color\": \"#E5ECF6\", \"width\": 0.5}}, \"type\": \"barpolar\"}], \"carpet\": [{\"aaxis\": {\"endlinecolor\": \"#2a3f5f\", \"gridcolor\": \"white\", \"linecolor\": \"white\", \"minorgridcolor\": \"white\", \"startlinecolor\": \"#2a3f5f\"}, \"baxis\": {\"endlinecolor\": \"#2a3f5f\", \"gridcolor\": \"white\", \"linecolor\": \"white\", \"minorgridcolor\": \"white\", \"startlinecolor\": \"#2a3f5f\"}, \"type\": \"carpet\"}], \"choropleth\": [{\"colorbar\": {\"outlinewidth\": 0, \"ticks\": \"\"}, \"type\": \"choropleth\"}], \"contour\": [{\"colorbar\": {\"outlinewidth\": 0, \"ticks\": \"\"}, \"colorscale\": [[0.0, \"#0d0887\"], [0.1111111111111111, \"#46039f\"], [0.2222222222222222, \"#7201a8\"], [0.3333333333333333, \"#9c179e\"], [0.4444444444444444, \"#bd3786\"], [0.5555555555555556, \"#d8576b\"], [0.6666666666666666, \"#ed7953\"], [0.7777777777777778, \"#fb9f3a\"], [0.8888888888888888, \"#fdca26\"], [1.0, \"#f0f921\"]], \"type\": \"contour\"}], \"contourcarpet\": [{\"colorbar\": {\"outlinewidth\": 0, \"ticks\": \"\"}, \"type\": \"contourcarpet\"}], \"heatmap\": [{\"colorbar\": {\"outlinewidth\": 0, \"ticks\": \"\"}, \"colorscale\": [[0.0, \"#0d0887\"], [0.1111111111111111, \"#46039f\"], [0.2222222222222222, \"#7201a8\"], [0.3333333333333333, \"#9c179e\"], [0.4444444444444444, \"#bd3786\"], [0.5555555555555556, \"#d8576b\"], [0.6666666666666666, \"#ed7953\"], [0.7777777777777778, \"#fb9f3a\"], [0.8888888888888888, \"#fdca26\"], [1.0, \"#f0f921\"]], \"type\": \"heatmap\"}], \"heatmapgl\": [{\"colorbar\": {\"outlinewidth\": 0, \"ticks\": \"\"}, \"colorscale\": [[0.0, \"#0d0887\"], [0.1111111111111111, \"#46039f\"], [0.2222222222222222, \"#7201a8\"], [0.3333333333333333, \"#9c179e\"], [0.4444444444444444, \"#bd3786\"], [0.5555555555555556, \"#d8576b\"], [0.6666666666666666, \"#ed7953\"], [0.7777777777777778, \"#fb9f3a\"], [0.8888888888888888, \"#fdca26\"], [1.0, \"#f0f921\"]], \"type\": \"heatmapgl\"}], \"histogram\": [{\"marker\": {\"colorbar\": {\"outlinewidth\": 0, \"ticks\": \"\"}}, \"type\": \"histogram\"}], \"histogram2d\": [{\"colorbar\": {\"outlinewidth\": 0, \"ticks\": \"\"}, \"colorscale\": [[0.0, \"#0d0887\"], [0.1111111111111111, \"#46039f\"], [0.2222222222222222, \"#7201a8\"], [0.3333333333333333, \"#9c179e\"], [0.4444444444444444, \"#bd3786\"], [0.5555555555555556, \"#d8576b\"], [0.6666666666666666, \"#ed7953\"], [0.7777777777777778, \"#fb9f3a\"], [0.8888888888888888, \"#fdca26\"], [1.0, \"#f0f921\"]], \"type\": \"histogram2d\"}], \"histogram2dcontour\": [{\"colorbar\": {\"outlinewidth\": 0, \"ticks\": \"\"}, \"colorscale\": [[0.0, \"#0d0887\"], [0.1111111111111111, \"#46039f\"], [0.2222222222222222, \"#7201a8\"], [0.3333333333333333, \"#9c179e\"], [0.4444444444444444, \"#bd3786\"], [0.5555555555555556, \"#d8576b\"], [0.6666666666666666, \"#ed7953\"], [0.7777777777777778, \"#fb9f3a\"], [0.8888888888888888, \"#fdca26\"], [1.0, \"#f0f921\"]], \"type\": \"histogram2dcontour\"}], \"mesh3d\": [{\"colorbar\": {\"outlinewidth\": 0, \"ticks\": \"\"}, \"type\": \"mesh3d\"}], \"parcoords\": [{\"line\": {\"colorbar\": {\"outlinewidth\": 0, \"ticks\": \"\"}}, \"type\": \"parcoords\"}], \"pie\": [{\"automargin\": true, \"type\": \"pie\"}], \"scatter\": [{\"marker\": {\"colorbar\": {\"outlinewidth\": 0, \"ticks\": \"\"}}, \"type\": \"scatter\"}], \"scatter3d\": [{\"line\": {\"colorbar\": {\"outlinewidth\": 0, \"ticks\": \"\"}}, \"marker\": {\"colorbar\": {\"outlinewidth\": 0, \"ticks\": \"\"}}, \"type\": \"scatter3d\"}], \"scattercarpet\": [{\"marker\": {\"colorbar\": {\"outlinewidth\": 0, \"ticks\": \"\"}}, \"type\": \"scattercarpet\"}], \"scattergeo\": [{\"marker\": {\"colorbar\": {\"outlinewidth\": 0, \"ticks\": \"\"}}, \"type\": \"scattergeo\"}], \"scattergl\": [{\"marker\": {\"colorbar\": {\"outlinewidth\": 0, \"ticks\": \"\"}}, \"type\": \"scattergl\"}], \"scattermapbox\": [{\"marker\": {\"colorbar\": {\"outlinewidth\": 0, \"ticks\": \"\"}}, \"type\": \"scattermapbox\"}], \"scatterpolar\": [{\"marker\": {\"colorbar\": {\"outlinewidth\": 0, \"ticks\": \"\"}}, \"type\": \"scatterpolar\"}], \"scatterpolargl\": [{\"marker\": {\"colorbar\": {\"outlinewidth\": 0, \"ticks\": \"\"}}, \"type\": \"scatterpolargl\"}], \"scatterternary\": [{\"marker\": {\"colorbar\": {\"outlinewidth\": 0, \"ticks\": \"\"}}, \"type\": \"scatterternary\"}], \"surface\": [{\"colorbar\": {\"outlinewidth\": 0, \"ticks\": \"\"}, \"colorscale\": [[0.0, \"#0d0887\"], [0.1111111111111111, \"#46039f\"], [0.2222222222222222, \"#7201a8\"], [0.3333333333333333, \"#9c179e\"], [0.4444444444444444, \"#bd3786\"], [0.5555555555555556, \"#d8576b\"], [0.6666666666666666, \"#ed7953\"], [0.7777777777777778, \"#fb9f3a\"], [0.8888888888888888, \"#fdca26\"], [1.0, \"#f0f921\"]], \"type\": \"surface\"}], \"table\": [{\"cells\": {\"fill\": {\"color\": \"#EBF0F8\"}, \"line\": {\"color\": \"white\"}}, \"header\": {\"fill\": {\"color\": \"#C8D4E3\"}, \"line\": {\"color\": \"white\"}}, \"type\": \"table\"}]}, \"layout\": {\"annotationdefaults\": {\"arrowcolor\": \"#2a3f5f\", \"arrowhead\": 0, \"arrowwidth\": 1}, \"coloraxis\": {\"colorbar\": {\"outlinewidth\": 0, \"ticks\": \"\"}}, \"colorscale\": {\"diverging\": [[0, \"#8e0152\"], [0.1, \"#c51b7d\"], [0.2, \"#de77ae\"], [0.3, \"#f1b6da\"], [0.4, \"#fde0ef\"], [0.5, \"#f7f7f7\"], [0.6, \"#e6f5d0\"], [0.7, \"#b8e186\"], [0.8, \"#7fbc41\"], [0.9, \"#4d9221\"], [1, \"#276419\"]], \"sequential\": [[0.0, \"#0d0887\"], [0.1111111111111111, \"#46039f\"], [0.2222222222222222, \"#7201a8\"], [0.3333333333333333, \"#9c179e\"], [0.4444444444444444, \"#bd3786\"], [0.5555555555555556, \"#d8576b\"], [0.6666666666666666, \"#ed7953\"], [0.7777777777777778, \"#fb9f3a\"], [0.8888888888888888, \"#fdca26\"], [1.0, \"#f0f921\"]], \"sequentialminus\": [[0.0, \"#0d0887\"], [0.1111111111111111, \"#46039f\"], [0.2222222222222222, \"#7201a8\"], [0.3333333333333333, \"#9c179e\"], [0.4444444444444444, \"#bd3786\"], [0.5555555555555556, \"#d8576b\"], [0.6666666666666666, \"#ed7953\"], [0.7777777777777778, \"#fb9f3a\"], [0.8888888888888888, \"#fdca26\"], [1.0, \"#f0f921\"]]}, \"colorway\": [\"#636efa\", \"#EF553B\", \"#00cc96\", \"#ab63fa\", \"#FFA15A\", \"#19d3f3\", \"#FF6692\", \"#B6E880\", \"#FF97FF\", \"#FECB52\"], \"font\": {\"color\": \"#2a3f5f\"}, \"geo\": {\"bgcolor\": \"white\", \"lakecolor\": \"white\", \"landcolor\": \"#E5ECF6\", \"showlakes\": true, \"showland\": true, \"subunitcolor\": \"white\"}, \"hoverlabel\": {\"align\": \"left\"}, \"hovermode\": \"closest\", \"mapbox\": {\"style\": \"light\"}, \"paper_bgcolor\": \"white\", \"plot_bgcolor\": \"#E5ECF6\", \"polar\": {\"angularaxis\": {\"gridcolor\": \"white\", \"linecolor\": \"white\", \"ticks\": \"\"}, \"bgcolor\": \"#E5ECF6\", \"radialaxis\": {\"gridcolor\": \"white\", \"linecolor\": \"white\", \"ticks\": \"\"}}, \"scene\": {\"xaxis\": {\"backgroundcolor\": \"#E5ECF6\", \"gridcolor\": \"white\", \"gridwidth\": 2, \"linecolor\": \"white\", \"showbackground\": true, \"ticks\": \"\", \"zerolinecolor\": \"white\"}, \"yaxis\": {\"backgroundcolor\": \"#E5ECF6\", \"gridcolor\": \"white\", \"gridwidth\": 2, \"linecolor\": \"white\", \"showbackground\": true, \"ticks\": \"\", \"zerolinecolor\": \"white\"}, \"zaxis\": {\"backgroundcolor\": \"#E5ECF6\", \"gridcolor\": \"white\", \"gridwidth\": 2, \"linecolor\": \"white\", \"showbackground\": true, \"ticks\": \"\", \"zerolinecolor\": \"white\"}}, \"shapedefaults\": {\"line\": {\"color\": \"#2a3f5f\"}}, \"ternary\": {\"aaxis\": {\"gridcolor\": \"white\", \"linecolor\": \"white\", \"ticks\": \"\"}, \"baxis\": {\"gridcolor\": \"white\", \"linecolor\": \"white\", \"ticks\": \"\"}, \"bgcolor\": \"#E5ECF6\", \"caxis\": {\"gridcolor\": \"white\", \"linecolor\": \"white\", \"ticks\": \"\"}}, \"title\": {\"x\": 0.05}, \"xaxis\": {\"automargin\": true, \"gridcolor\": \"white\", \"linecolor\": \"white\", \"ticks\": \"\", \"title\": {\"standoff\": 15}, \"zerolinecolor\": \"white\", \"zerolinewidth\": 2}, \"yaxis\": {\"automargin\": true, \"gridcolor\": \"white\", \"linecolor\": \"white\", \"ticks\": \"\", \"title\": {\"standoff\": 15}, \"zerolinecolor\": \"white\", \"zerolinewidth\": 2}}}, \"xaxis\": {\"anchor\": \"y\", \"domain\": [0.0, 1.0], \"title\": {\"text\": \"Glucose\"}}, \"yaxis\": {\"anchor\": \"x\", \"domain\": [0.0, 1.0], \"title\": {\"text\": \"BMI\"}}},\n",
              "                        {\"responsive\": true}\n",
              "                    ).then(function(){\n",
              "                            \n",
              "var gd = document.getElementById('93c4eb26-d685-4334-81fd-d61126b82202');\n",
              "var x = new MutationObserver(function (mutations, observer) {{\n",
              "        var display = window.getComputedStyle(gd).display;\n",
              "        if (!display || display === 'none') {{\n",
              "            console.log([gd, 'removed!']);\n",
              "            Plotly.purge(gd);\n",
              "            observer.disconnect();\n",
              "        }}\n",
              "}});\n",
              "\n",
              "// Listen for the removal of the full notebook cells\n",
              "var notebookContainer = gd.closest('#notebook-container');\n",
              "if (notebookContainer) {{\n",
              "    x.observe(notebookContainer, {childList: true});\n",
              "}}\n",
              "\n",
              "// Listen for the clearing of the current output cell\n",
              "var outputEl = gd.closest('.output');\n",
              "if (outputEl) {{\n",
              "    x.observe(outputEl, {childList: true});\n",
              "}}\n",
              "\n",
              "                        })\n",
              "                };\n",
              "                \n",
              "            </script>\n",
              "        </div>\n",
              "</body>\n",
              "</html>"
            ]
          },
          "metadata": {}
        }
      ]
    },
    {
      "cell_type": "code",
      "metadata": {
        "colab": {
          "base_uri": "https://localhost:8080/",
          "height": 592
        },
        "id": "nBfQef_myISV",
        "outputId": "dcca32b0-78bb-4ea9-f9a5-b99df7321d82"
      },
      "source": [
        "_ = dataset.plot(kind = 'box', figsize = (20, 10))\n",
        "plt.show()"
      ],
      "execution_count": 20,
      "outputs": [
        {
          "output_type": "display_data",
          "data": {
            "image/png": "[encoded data removed]",
            "text/plain": [
              "<Figure size 1440x720 with 1 Axes>"
            ]
          },
          "metadata": {
            "needs_background": "light"
          }
        }
      ]
    },
    {
      "cell_type": "code",
      "metadata": {
        "id": "6lJy9BFyyNKD"
      },
      "source": [
        ""
      ],
      "execution_count": null,
      "outputs": []
    },
    {
      "cell_type": "markdown",
      "metadata": {
        "id": "IzzaeZEOyZbX"
      },
      "source": [
        "# PRÉ-TREINAMENTO"
      ]
    },
    {
      "cell_type": "code",
      "metadata": {
        "id": "3avdmCPQybV9"
      },
      "source": [
        "from sklearn.preprocessing import StandardScaler\n",
        "from sklearn.model_selection import train_test_split"
      ],
      "execution_count": 21,
      "outputs": []
    },
    {
      "cell_type": "code",
      "metadata": {
        "id": "91wcP-vPygcQ"
      },
      "source": [
        "X_dataset = dataset.drop(['BloodPressure', 'SkinThickness'], axis = 1)\n",
        "#X_dataset = dataset.drop(['Pregnancies', 'BloodPressure', 'SkinThickness'], axis = 1)\n",
        "X_dataset = X_dataset.values\n",
        "y_dataset = dataset.iloc[:, -1].values"
      ],
      "execution_count": 22,
      "outputs": []
    },
    {
      "cell_type": "code",
      "metadata": {
        "colab": {
          "base_uri": "https://localhost:8080/"
        },
        "id": "Ktgnd-Ecyks3",
        "outputId": "cbb474fd-1e00-4006-f59a-009a61ac7c27"
      },
      "source": [
        "print(X_dataset.shape)\n",
        "print(y_dataset.shape)"
      ],
      "execution_count": 23,
      "outputs": [
        {
          "output_type": "stream",
          "name": "stdout",
          "text": [
            "(768, 7)\n",
            "(768,)\n"
          ]
        }
      ]
    },
    {
      "cell_type": "markdown",
      "metadata": {
        "id": "kBCY41uvyq9v"
      },
      "source": [
        "**Atributos previsores separados do target**"
      ]
    },
    {
      "cell_type": "markdown",
      "metadata": {
        "id": "twmjoQosyw5l"
      },
      "source": [
        "## Escalonamento dos Atributos"
      ]
    },
    {
      "cell_type": "code",
      "metadata": {
        "id": "Nubmg-Wpy4Hq"
      },
      "source": [
        "scaler_dataset = StandardScaler()\n",
        "X_dataset = scaler_dataset.fit_transform(X_dataset)"
      ],
      "execution_count": 24,
      "outputs": []
    },
    {
      "cell_type": "code",
      "metadata": {
        "colab": {
          "base_uri": "https://localhost:8080/"
        },
        "id": "svB3xNgFy9Y2",
        "outputId": "81d6941e-67b6-4802-cb15-024cea6c4653"
      },
      "source": [
        "X_dataset"
      ],
      "execution_count": 25,
      "outputs": [
        {
          "output_type": "execute_result",
          "data": {
            "text/plain": [
              "array([[ 0.63994726,  0.84832379, -0.69289057, ...,  0.46849198,\n",
              "         1.4259954 ,  1.36589591],\n",
              "       [-0.84488505, -1.12339636, -0.69289057, ..., -0.36506078,\n",
              "        -0.19067191, -0.73212021],\n",
              "       [ 1.23388019,  1.94372388, -0.69289057, ...,  0.60439732,\n",
              "        -0.10558415,  1.36589591],\n",
              "       ...,\n",
              "       [ 0.3429808 ,  0.00330087,  0.27959377, ..., -0.68519336,\n",
              "        -0.27575966, -0.73212021],\n",
              "       [-0.84488505,  0.1597866 , -0.69289057, ..., -0.37110101,\n",
              "         1.17073215,  1.36589591],\n",
              "       [-0.84488505, -0.8730192 , -0.69289057, ..., -0.47378505,\n",
              "        -0.87137393, -0.73212021]])"
            ]
          },
          "metadata": {},
          "execution_count": 25
        }
      ]
    },
    {
      "cell_type": "markdown",
      "metadata": {
        "id": "CLRbcYW8zCP0"
      },
      "source": [
        "## Separação dos dados em Treinamento e Teste"
      ]
    },
    {
      "cell_type": "code",
      "metadata": {
        "id": "Dr48wrGUzJN8"
      },
      "source": [
        "#random_state garante sempre os mesmos dados em treinamento e teste\n",
        "#Com isso é possível comparar os resultados\n",
        "X_dataset_treinamento, X_dataset_teste, y_dataset_treinamento, y_dataset_teste = train_test_split(X_dataset, y_dataset, test_size = 0.2, random_state = 0)"
      ],
      "execution_count": 26,
      "outputs": []
    },
    {
      "cell_type": "code",
      "metadata": {
        "colab": {
          "base_uri": "https://localhost:8080/"
        },
        "id": "iX5CI4VfzOHr",
        "outputId": "844d75c1-f715-47c5-bb0e-67b943283d53"
      },
      "source": [
        "X_dataset_treinamento.shape, X_dataset_teste.shape"
      ],
      "execution_count": 27,
      "outputs": [
        {
          "output_type": "execute_result",
          "data": {
            "text/plain": [
              "((614, 7), (154, 7))"
            ]
          },
          "metadata": {},
          "execution_count": 27
        }
      ]
    },
    {
      "cell_type": "code",
      "metadata": {
        "colab": {
          "base_uri": "https://localhost:8080/"
        },
        "id": "Fp-8qzXPzQmd",
        "outputId": "9f3f7554-9203-4c37-fe1f-fc5535f6f44c"
      },
      "source": [
        "y_dataset_treinamento.shape, y_dataset_teste.shape"
      ],
      "execution_count": 28,
      "outputs": [
        {
          "output_type": "execute_result",
          "data": {
            "text/plain": [
              "((614,), (154,))"
            ]
          },
          "metadata": {},
          "execution_count": 28
        }
      ]
    },
    {
      "cell_type": "markdown",
      "metadata": {
        "id": "QntOMXKnzVx4"
      },
      "source": [
        "## Salvar os registros escalonados"
      ]
    },
    {
      "cell_type": "code",
      "metadata": {
        "id": "U1xqzAAzzSpd"
      },
      "source": [
        "with open('dataset.pkl', mode = 'wb') as f:\n",
        "    pickle.dump([X_dataset_treinamento, y_dataset_treinamento, X_dataset_teste, y_dataset_teste], f)"
      ],
      "execution_count": 29,
      "outputs": []
    },
    {
      "cell_type": "markdown",
      "metadata": {
        "id": "H9GOI-LdziIO"
      },
      "source": [
        "# TREINAMENTO"
      ]
    },
    {
      "cell_type": "code",
      "metadata": {
        "id": "CiEoIe_KzhPm"
      },
      "source": [
        "from sklearn.metrics import accuracy_score, confusion_matrix, classification_report\n",
        "\n",
        "from sklearn.model_selection import GridSearchCV"
      ],
      "execution_count": 51,
      "outputs": []
    },
    {
      "cell_type": "code",
      "metadata": {
        "id": "_rNoeY58zdP-"
      },
      "source": [
        "with open('dataset.pkl', 'rb') as f:\n",
        "    X_dataset_treinamento, y_dataset_treinamento, X_dataset_teste, y_dataset_teste = pickle.load(f) "
      ],
      "execution_count": 31,
      "outputs": []
    },
    {
      "cell_type": "code",
      "metadata": {
        "colab": {
          "base_uri": "https://localhost:8080/"
        },
        "id": "rUMjbUZczx4M",
        "outputId": "b3f9e7de-abe9-415b-a633-4c31e6ce27f5"
      },
      "source": [
        "X_dataset_treinamento"
      ],
      "execution_count": 32,
      "outputs": [
        {
          "output_type": "execute_result",
          "data": {
            "text/plain": [
              "array([[ 0.93691372,  0.91091809,  0.40115431, ...,  0.66479969,\n",
              "         1.76634642,  1.36589591],\n",
              "       [ 0.04601433, -0.74783062, -0.69289057, ..., -0.08720986,\n",
              "        -0.95646168, -0.73212021],\n",
              "       [-1.14185152,  1.38037527,  5.21147866, ..., -0.13553176,\n",
              "        -0.87137393, -0.73212021],\n",
              "       ...,\n",
              "       [ 0.04601433, -0.84172205, -0.69289057, ..., -0.97814487,\n",
              "        -1.04154944, -0.73212021],\n",
              "       [ 2.12477957, -1.12339636, -0.69289057, ..., -0.51908683,\n",
              "         0.14967911, -0.73212021],\n",
              "       [ 0.3429808 ,  0.47275805, -0.69289057, ...,  0.50775352,\n",
              "         3.04266271, -0.73212021]])"
            ]
          },
          "metadata": {},
          "execution_count": 32
        }
      ]
    },
    {
      "cell_type": "code",
      "metadata": {
        "colab": {
          "base_uri": "https://localhost:8080/"
        },
        "id": "VEzx0hS7z0j8",
        "outputId": "2a1e52bf-0229-430e-9fa1-f55a49420212"
      },
      "source": [
        "X_dataset_treinamento.shape, y_dataset_treinamento.shape, X_dataset_teste.shape, y_dataset_teste.shape"
      ],
      "execution_count": 33,
      "outputs": [
        {
          "output_type": "execute_result",
          "data": {
            "text/plain": [
              "((614, 7), (614,), (154, 7), (154,))"
            ]
          },
          "metadata": {},
          "execution_count": 33
        }
      ]
    },
    {
      "cell_type": "code",
      "metadata": {
        "colab": {
          "base_uri": "https://localhost:8080/"
        },
        "id": "tcDgVOxGz3Jj",
        "outputId": "6337a547-eff9-4b41-e392-c3eedc0d8478"
      },
      "source": [
        "y_dataset_treinamento"
      ],
      "execution_count": 34,
      "outputs": [
        {
          "output_type": "execute_result",
          "data": {
            "text/plain": [
              "array([1, 0, 0, 0, 1, 1, 1, 1, 0, 0, 0, 1, 0, 0, 0, 0, 0, 0, 1, 1, 0, 0,\n",
              "       0, 0, 0, 0, 1, 1, 0, 1, 1, 0, 1, 1, 1, 0, 0, 0, 0, 0, 0, 1, 1, 0,\n",
              "       0, 0, 0, 0, 0, 0, 1, 0, 0, 0, 1, 0, 1, 0, 0, 0, 0, 0, 1, 1, 0, 0,\n",
              "       1, 0, 1, 1, 0, 0, 1, 1, 0, 0, 0, 1, 0, 0, 1, 1, 0, 1, 0, 1, 0, 1,\n",
              "       0, 1, 0, 1, 0, 0, 0, 0, 0, 1, 0, 1, 0, 1, 0, 0, 0, 0, 0, 0, 0, 0,\n",
              "       1, 0, 1, 1, 1, 1, 0, 0, 0, 0, 1, 1, 0, 1, 0, 0, 1, 1, 0, 0, 0, 0,\n",
              "       0, 0, 0, 1, 1, 0, 0, 0, 0, 1, 1, 0, 0, 0, 0, 1, 0, 0, 1, 1, 0, 1,\n",
              "       1, 0, 0, 0, 0, 0, 0, 0, 0, 1, 0, 1, 0, 0, 0, 1, 0, 0, 0, 0, 0, 1,\n",
              "       1, 1, 1, 0, 0, 0, 0, 0, 1, 0, 0, 0, 0, 1, 1, 0, 0, 0, 1, 1, 1, 1,\n",
              "       0, 1, 0, 1, 1, 0, 0, 0, 1, 0, 0, 0, 1, 0, 1, 1, 0, 1, 1, 0, 0, 0,\n",
              "       0, 1, 1, 0, 0, 1, 1, 0, 0, 0, 0, 0, 1, 0, 1, 0, 0, 0, 1, 0, 1, 0,\n",
              "       1, 0, 1, 1, 1, 1, 0, 1, 1, 0, 0, 1, 1, 0, 0, 1, 1, 0, 0, 0, 1, 1,\n",
              "       0, 0, 1, 0, 1, 0, 0, 1, 0, 1, 0, 0, 0, 1, 0, 0, 0, 0, 0, 1, 0, 1,\n",
              "       0, 0, 1, 0, 0, 1, 0, 0, 0, 0, 0, 0, 0, 0, 0, 1, 1, 0, 1, 0, 1, 1,\n",
              "       1, 0, 1, 0, 0, 1, 1, 0, 0, 0, 1, 0, 0, 1, 0, 1, 0, 0, 0, 0, 1, 0,\n",
              "       0, 0, 1, 1, 0, 1, 0, 1, 1, 0, 1, 0, 1, 0, 0, 0, 1, 0, 1, 0, 1, 0,\n",
              "       0, 1, 1, 0, 0, 0, 0, 1, 0, 0, 1, 0, 1, 1, 0, 0, 1, 1, 0, 0, 0, 0,\n",
              "       1, 0, 0, 0, 0, 1, 0, 1, 0, 0, 0, 0, 1, 0, 0, 0, 1, 0, 0, 0, 1, 1,\n",
              "       0, 0, 0, 0, 0, 1, 0, 0, 1, 0, 1, 1, 0, 1, 0, 0, 0, 0, 1, 1, 0, 0,\n",
              "       0, 1, 0, 0, 0, 0, 1, 0, 1, 0, 0, 0, 1, 0, 1, 1, 1, 1, 0, 1, 0, 0,\n",
              "       0, 0, 0, 1, 0, 1, 0, 1, 0, 0, 0, 1, 1, 0, 0, 1, 1, 0, 1, 0, 0, 1,\n",
              "       0, 0, 1, 0, 0, 0, 0, 0, 1, 1, 1, 1, 0, 0, 1, 1, 0, 0, 0, 1, 0, 0,\n",
              "       0, 1, 0, 0, 0, 0, 0, 0, 1, 1, 0, 0, 0, 0, 0, 0, 1, 0, 0, 0, 0, 0,\n",
              "       0, 1, 1, 1, 0, 1, 0, 0, 0, 0, 0, 0, 1, 1, 0, 1, 1, 0, 0, 1, 0, 0,\n",
              "       0, 1, 0, 1, 0, 1, 0, 1, 0, 0, 0, 0, 1, 0, 0, 1, 0, 0, 0, 0, 0, 1,\n",
              "       0, 1, 0, 0, 0, 0, 0, 1, 0, 0, 0, 0, 1, 0, 1, 0, 0, 0, 1, 1, 0, 0,\n",
              "       0, 0, 0, 0, 0, 0, 0, 0, 0, 1, 1, 1, 1, 0, 1, 1, 1, 0, 0, 1, 0, 0,\n",
              "       0, 0, 0, 1, 0, 0, 0, 1, 0, 1, 0, 0, 1, 1, 0, 0, 1, 0, 0, 0])"
            ]
          },
          "metadata": {},
          "execution_count": 34
        }
      ]
    },
    {
      "cell_type": "markdown",
      "metadata": {
        "id": "QdYXqrtW0AT4"
      },
      "source": [
        "## Naive Bayes"
      ]
    },
    {
      "cell_type": "code",
      "metadata": {
        "id": "drRunnIEz7Z6"
      },
      "source": [
        "from sklearn.naive_bayes import GaussianNB"
      ],
      "execution_count": 35,
      "outputs": []
    },
    {
      "cell_type": "code",
      "metadata": {
        "id": "Sf0E8kN-0GGK"
      },
      "source": [
        "naive_dataset = GaussianNB()"
      ],
      "execution_count": 36,
      "outputs": []
    },
    {
      "cell_type": "code",
      "metadata": {
        "colab": {
          "base_uri": "https://localhost:8080/"
        },
        "id": "pUc_owzJ0Hxb",
        "outputId": "1b876510-7127-4ca5-9f37-dacc770893d4"
      },
      "source": [
        "naive_dataset.fit(X_dataset_treinamento, y_dataset_treinamento)"
      ],
      "execution_count": 37,
      "outputs": [
        {
          "output_type": "execute_result",
          "data": {
            "text/plain": [
              "GaussianNB()"
            ]
          },
          "metadata": {},
          "execution_count": 37
        }
      ]
    },
    {
      "cell_type": "code",
      "metadata": {
        "id": "7HEBBp2A0KjR"
      },
      "source": [
        "previsoes_naive = naive_dataset.predict(X_dataset_teste)"
      ],
      "execution_count": 38,
      "outputs": []
    },
    {
      "cell_type": "code",
      "metadata": {
        "colab": {
          "base_uri": "https://localhost:8080/"
        },
        "id": "VkldavCT0NKO",
        "outputId": "b2ba5e06-02d1-474b-efb3-150842931a59"
      },
      "source": [
        "accuracy_naive = accuracy_score(y_dataset_teste, previsoes_naive)\n",
        "accuracy_naive"
      ],
      "execution_count": 39,
      "outputs": [
        {
          "output_type": "execute_result",
          "data": {
            "text/plain": [
              "1.0"
            ]
          },
          "metadata": {},
          "execution_count": 39
        }
      ]
    },
    {
      "cell_type": "code",
      "metadata": {
        "colab": {
          "base_uri": "https://localhost:8080/"
        },
        "id": "c97kjJcn0POx",
        "outputId": "5463bd8d-1749-44c0-f0b0-51c09ddc6cc5"
      },
      "source": [
        "confusion_matrix(y_dataset_teste, previsoes_naive)"
      ],
      "execution_count": 40,
      "outputs": [
        {
          "output_type": "execute_result",
          "data": {
            "text/plain": [
              "array([[107,   0],\n",
              "       [  0,  47]])"
            ]
          },
          "metadata": {},
          "execution_count": 40
        }
      ]
    },
    {
      "cell_type": "code",
      "metadata": {
        "colab": {
          "base_uri": "https://localhost:8080/"
        },
        "id": "3tdvAsRs0RYw",
        "outputId": "5a9cfd2e-f5b7-417a-e1c6-3de77cc2bda6"
      },
      "source": [
        "print(classification_report(y_dataset_teste, previsoes_naive))"
      ],
      "execution_count": 41,
      "outputs": [
        {
          "output_type": "stream",
          "name": "stdout",
          "text": [
            "              precision    recall  f1-score   support\n",
            "\n",
            "           0       1.00      1.00      1.00       107\n",
            "           1       1.00      1.00      1.00        47\n",
            "\n",
            "    accuracy                           1.00       154\n",
            "   macro avg       1.00      1.00      1.00       154\n",
            "weighted avg       1.00      1.00      1.00       154\n",
            "\n"
          ]
        }
      ]
    },
    {
      "cell_type": "markdown",
      "metadata": {
        "id": "QJxRsqVL0Xyw"
      },
      "source": [
        "## Decision Tree"
      ]
    },
    {
      "cell_type": "code",
      "metadata": {
        "id": "Bpj6rf7y0Tm9"
      },
      "source": [
        "from sklearn.tree import DecisionTreeClassifier"
      ],
      "execution_count": 42,
      "outputs": []
    },
    {
      "cell_type": "code",
      "metadata": {
        "id": "Q6tyFz1Y0b4g"
      },
      "source": [
        "dectree_dataset = DecisionTreeClassifier(criterion = 'entropy', random_state = 0)"
      ],
      "execution_count": 43,
      "outputs": []
    },
    {
      "cell_type": "code",
      "metadata": {
        "colab": {
          "base_uri": "https://localhost:8080/"
        },
        "id": "jRwIbAbJ0dnM",
        "outputId": "b641e128-ad5e-4005-af5e-db4f7696b87e"
      },
      "source": [
        "dectree_dataset.fit(X_dataset_treinamento, y_dataset_treinamento)"
      ],
      "execution_count": 44,
      "outputs": [
        {
          "output_type": "execute_result",
          "data": {
            "text/plain": [
              "DecisionTreeClassifier(criterion='entropy', random_state=0)"
            ]
          },
          "metadata": {},
          "execution_count": 44
        }
      ]
    },
    {
      "cell_type": "code",
      "metadata": {
        "id": "6_G44_TP0fW5"
      },
      "source": [
        "previsoes_dectree = dectree_dataset.predict(X_dataset_teste)"
      ],
      "execution_count": 45,
      "outputs": []
    },
    {
      "cell_type": "code",
      "metadata": {
        "colab": {
          "base_uri": "https://localhost:8080/"
        },
        "id": "EKAOKKwN0hHk",
        "outputId": "ab87342e-2dad-4f43-af08-e73dae1d0313"
      },
      "source": [
        "accuracy_dectree = accuracy_score(y_dataset_teste, previsoes_dectree)\n",
        "accuracy_dectree"
      ],
      "execution_count": 46,
      "outputs": [
        {
          "output_type": "execute_result",
          "data": {
            "text/plain": [
              "1.0"
            ]
          },
          "metadata": {},
          "execution_count": 46
        }
      ]
    },
    {
      "cell_type": "code",
      "metadata": {
        "colab": {
          "base_uri": "https://localhost:8080/"
        },
        "id": "Sj6piHX_0jZR",
        "outputId": "b230c77f-8d1c-42d2-d385-785cabbfa123"
      },
      "source": [
        "confusion_matrix(y_dataset_teste, previsoes_dectree)"
      ],
      "execution_count": 47,
      "outputs": [
        {
          "output_type": "execute_result",
          "data": {
            "text/plain": [
              "array([[107,   0],\n",
              "       [  0,  47]])"
            ]
          },
          "metadata": {},
          "execution_count": 47
        }
      ]
    },
    {
      "cell_type": "code",
      "metadata": {
        "colab": {
          "base_uri": "https://localhost:8080/"
        },
        "id": "stNbg1j_0t9l",
        "outputId": "d537a455-16c9-4e9b-a778-293d2b350246"
      },
      "source": [
        "print(classification_report(y_dataset_teste, previsoes_dectree))"
      ],
      "execution_count": 48,
      "outputs": [
        {
          "output_type": "stream",
          "name": "stdout",
          "text": [
            "              precision    recall  f1-score   support\n",
            "\n",
            "           0       1.00      1.00      1.00       107\n",
            "           1       1.00      1.00      1.00        47\n",
            "\n",
            "    accuracy                           1.00       154\n",
            "   macro avg       1.00      1.00      1.00       154\n",
            "weighted avg       1.00      1.00      1.00       154\n",
            "\n"
          ]
        }
      ]
    },
    {
      "cell_type": "markdown",
      "metadata": {
        "id": "mflNF31Q02D3"
      },
      "source": [
        "### GridSearchCV"
      ]
    },
    {
      "cell_type": "code",
      "metadata": {
        "id": "255Mgz3T0vu1"
      },
      "source": [
        "parametros = {'criterion': ['gini', 'entropy'],\n",
        "             'splitter': ['best', 'random'],\n",
        "             'min_samples_split': [2, 5, 10],\n",
        "             'min_samples_leaf': [1, 5, 10], \n",
        "             'random_state': [0]}"
      ],
      "execution_count": 49,
      "outputs": []
    },
    {
      "cell_type": "code",
      "metadata": {
        "colab": {
          "base_uri": "https://localhost:8080/"
        },
        "id": "9yB7DrOQ01KY",
        "outputId": "a50630ce-f3fb-487a-daa1-95aaf63d3731"
      },
      "source": [
        "#Combinando todos com todos\n",
        "#Primeiro: gini com best, 2 e 1\n",
        "grid_search = GridSearchCV(estimator=DecisionTreeClassifier(), param_grid=parametros)\n",
        "#Ajuste de todos os parametros\n",
        "grid_search.fit(X_dataset_treinamento, y_dataset_treinamento)\n",
        "melhores_parametros = grid_search.best_params_\n",
        "melhor_resultado = grid_search.best_score_\n",
        "print(f'Melhores parametros: {melhores_parametros}')\n",
        "print(f'Melhor resultado: {melhor_resultado}')"
      ],
      "execution_count": 52,
      "outputs": [
        {
          "output_type": "stream",
          "name": "stdout",
          "text": [
            "Melhores parametros: {'criterion': 'gini', 'min_samples_leaf': 1, 'min_samples_split': 2, 'random_state': 0, 'splitter': 'best'}\n",
            "Melhor resultado: 1.0\n"
          ]
        }
      ]
    },
    {
      "cell_type": "code",
      "metadata": {
        "colab": {
          "base_uri": "https://localhost:8080/"
        },
        "id": "k22NVucX09Gx",
        "outputId": "938bd5de-9041-4987-e18c-a2a704dca07f"
      },
      "source": [
        "print(grid_search.cv_results_)"
      ],
      "execution_count": 53,
      "outputs": [
        {
          "output_type": "stream",
          "name": "stdout",
          "text": [
            "{'mean_fit_time': array([0.00176411, 0.00091023, 0.00099549, 0.00078235, 0.00100923,\n",
            "       0.00084586, 0.00097065, 0.00077257, 0.00095844, 0.00078464,\n",
            "       0.00094881, 0.00078988, 0.0009511 , 0.00079441, 0.00103936,\n",
            "       0.00081248, 0.00095463, 0.00079222, 0.00106144, 0.00079384,\n",
            "       0.00105724, 0.00079737, 0.00104909, 0.00077872, 0.00106802,\n",
            "       0.00079637, 0.00114336, 0.00081062, 0.00113416, 0.00077648,\n",
            "       0.00120625, 0.0007813 , 0.00104408, 0.00079103, 0.00104938,\n",
            "       0.0007946 ]), 'std_fit_time': array([1.34013533e-03, 1.50355489e-04, 3.43873985e-05, 1.07733545e-05,\n",
            "       8.88012394e-05, 9.85930906e-05, 1.95278643e-05, 5.70134551e-06,\n",
            "       1.61640060e-05, 1.04871658e-05, 5.64724993e-06, 1.23968491e-05,\n",
            "       3.86914497e-06, 2.48024087e-05, 1.71798850e-04, 5.65393763e-05,\n",
            "       1.19456988e-05, 1.00287822e-05, 1.05012491e-05, 4.19670882e-06,\n",
            "       4.45938355e-06, 9.54222522e-06, 6.56824795e-06, 1.12632530e-05,\n",
            "       1.30609867e-05, 9.27984406e-06, 7.34712451e-05, 1.18347870e-05,\n",
            "       3.65945725e-05, 1.07085778e-05, 2.27601454e-04, 8.08094794e-06,\n",
            "       4.78360603e-06, 1.71644157e-05, 1.18593533e-05, 1.99357855e-05]), 'mean_score_time': array([0.00057716, 0.00037975, 0.00032744, 0.00030813, 0.00036325,\n",
            "       0.00033364, 0.00031905, 0.00031452, 0.00032072, 0.00031147,\n",
            "       0.00031757, 0.00030084, 0.00032582, 0.00032315, 0.00033169,\n",
            "       0.0003056 , 0.00033083, 0.00031428, 0.00032272, 0.00030093,\n",
            "       0.00032263, 0.00031013, 0.00032325, 0.00032291, 0.00033822,\n",
            "       0.0003058 , 0.00035357, 0.00031557, 0.00033169, 0.00034676,\n",
            "       0.0003747 , 0.00031514, 0.00032287, 0.00032201, 0.00032105,\n",
            "       0.00032015]), 'std_score_time': array([4.34529785e-04, 7.17568473e-05, 1.00459982e-05, 8.26814183e-06,\n",
            "       8.18224775e-05, 1.64364323e-05, 5.89120682e-06, 5.21128696e-06,\n",
            "       1.00491663e-05, 8.66821232e-06, 5.65207939e-06, 2.25378080e-06,\n",
            "       1.60684925e-05, 2.84642629e-05, 2.65694589e-05, 1.08792046e-05,\n",
            "       2.01051194e-05, 1.31760729e-05, 8.81259057e-06, 4.74303188e-06,\n",
            "       1.03577988e-05, 5.55141675e-06, 1.15473381e-05, 2.56530414e-05,\n",
            "       1.39352345e-05, 8.87173441e-06, 2.98924038e-05, 5.57022547e-06,\n",
            "       1.20644513e-05, 4.98002939e-05, 9.46517075e-05, 4.75260991e-06,\n",
            "       9.53006511e-06, 1.45732857e-05, 8.13227565e-06, 1.01683777e-05]), 'param_criterion': masked_array(data=['gini', 'gini', 'gini', 'gini', 'gini', 'gini', 'gini',\n",
            "                   'gini', 'gini', 'gini', 'gini', 'gini', 'gini', 'gini',\n",
            "                   'gini', 'gini', 'gini', 'gini', 'entropy', 'entropy',\n",
            "                   'entropy', 'entropy', 'entropy', 'entropy', 'entropy',\n",
            "                   'entropy', 'entropy', 'entropy', 'entropy', 'entropy',\n",
            "                   'entropy', 'entropy', 'entropy', 'entropy', 'entropy',\n",
            "                   'entropy'],\n",
            "             mask=[False, False, False, False, False, False, False, False,\n",
            "                   False, False, False, False, False, False, False, False,\n",
            "                   False, False, False, False, False, False, False, False,\n",
            "                   False, False, False, False, False, False, False, False,\n",
            "                   False, False, False, False],\n",
            "       fill_value='?',\n",
            "            dtype=object), 'param_min_samples_leaf': masked_array(data=[1, 1, 1, 1, 1, 1, 5, 5, 5, 5, 5, 5, 10, 10, 10, 10, 10,\n",
            "                   10, 1, 1, 1, 1, 1, 1, 5, 5, 5, 5, 5, 5, 10, 10, 10, 10,\n",
            "                   10, 10],\n",
            "             mask=[False, False, False, False, False, False, False, False,\n",
            "                   False, False, False, False, False, False, False, False,\n",
            "                   False, False, False, False, False, False, False, False,\n",
            "                   False, False, False, False, False, False, False, False,\n",
            "                   False, False, False, False],\n",
            "       fill_value='?',\n",
            "            dtype=object), 'param_min_samples_split': masked_array(data=[2, 2, 5, 5, 10, 10, 2, 2, 5, 5, 10, 10, 2, 2, 5, 5, 10,\n",
            "                   10, 2, 2, 5, 5, 10, 10, 2, 2, 5, 5, 10, 10, 2, 2, 5, 5,\n",
            "                   10, 10],\n",
            "             mask=[False, False, False, False, False, False, False, False,\n",
            "                   False, False, False, False, False, False, False, False,\n",
            "                   False, False, False, False, False, False, False, False,\n",
            "                   False, False, False, False, False, False, False, False,\n",
            "                   False, False, False, False],\n",
            "       fill_value='?',\n",
            "            dtype=object), 'param_random_state': masked_array(data=[0, 0, 0, 0, 0, 0, 0, 0, 0, 0, 0, 0, 0, 0, 0, 0, 0, 0,\n",
            "                   0, 0, 0, 0, 0, 0, 0, 0, 0, 0, 0, 0, 0, 0, 0, 0, 0, 0],\n",
            "             mask=[False, False, False, False, False, False, False, False,\n",
            "                   False, False, False, False, False, False, False, False,\n",
            "                   False, False, False, False, False, False, False, False,\n",
            "                   False, False, False, False, False, False, False, False,\n",
            "                   False, False, False, False],\n",
            "       fill_value='?',\n",
            "            dtype=object), 'param_splitter': masked_array(data=['best', 'random', 'best', 'random', 'best', 'random',\n",
            "                   'best', 'random', 'best', 'random', 'best', 'random',\n",
            "                   'best', 'random', 'best', 'random', 'best', 'random',\n",
            "                   'best', 'random', 'best', 'random', 'best', 'random',\n",
            "                   'best', 'random', 'best', 'random', 'best', 'random',\n",
            "                   'best', 'random', 'best', 'random', 'best', 'random'],\n",
            "             mask=[False, False, False, False, False, False, False, False,\n",
            "                   False, False, False, False, False, False, False, False,\n",
            "                   False, False, False, False, False, False, False, False,\n",
            "                   False, False, False, False, False, False, False, False,\n",
            "                   False, False, False, False],\n",
            "       fill_value='?',\n",
            "            dtype=object), 'params': [{'criterion': 'gini', 'min_samples_leaf': 1, 'min_samples_split': 2, 'random_state': 0, 'splitter': 'best'}, {'criterion': 'gini', 'min_samples_leaf': 1, 'min_samples_split': 2, 'random_state': 0, 'splitter': 'random'}, {'criterion': 'gini', 'min_samples_leaf': 1, 'min_samples_split': 5, 'random_state': 0, 'splitter': 'best'}, {'criterion': 'gini', 'min_samples_leaf': 1, 'min_samples_split': 5, 'random_state': 0, 'splitter': 'random'}, {'criterion': 'gini', 'min_samples_leaf': 1, 'min_samples_split': 10, 'random_state': 0, 'splitter': 'best'}, {'criterion': 'gini', 'min_samples_leaf': 1, 'min_samples_split': 10, 'random_state': 0, 'splitter': 'random'}, {'criterion': 'gini', 'min_samples_leaf': 5, 'min_samples_split': 2, 'random_state': 0, 'splitter': 'best'}, {'criterion': 'gini', 'min_samples_leaf': 5, 'min_samples_split': 2, 'random_state': 0, 'splitter': 'random'}, {'criterion': 'gini', 'min_samples_leaf': 5, 'min_samples_split': 5, 'random_state': 0, 'splitter': 'best'}, {'criterion': 'gini', 'min_samples_leaf': 5, 'min_samples_split': 5, 'random_state': 0, 'splitter': 'random'}, {'criterion': 'gini', 'min_samples_leaf': 5, 'min_samples_split': 10, 'random_state': 0, 'splitter': 'best'}, {'criterion': 'gini', 'min_samples_leaf': 5, 'min_samples_split': 10, 'random_state': 0, 'splitter': 'random'}, {'criterion': 'gini', 'min_samples_leaf': 10, 'min_samples_split': 2, 'random_state': 0, 'splitter': 'best'}, {'criterion': 'gini', 'min_samples_leaf': 10, 'min_samples_split': 2, 'random_state': 0, 'splitter': 'random'}, {'criterion': 'gini', 'min_samples_leaf': 10, 'min_samples_split': 5, 'random_state': 0, 'splitter': 'best'}, {'criterion': 'gini', 'min_samples_leaf': 10, 'min_samples_split': 5, 'random_state': 0, 'splitter': 'random'}, {'criterion': 'gini', 'min_samples_leaf': 10, 'min_samples_split': 10, 'random_state': 0, 'splitter': 'best'}, {'criterion': 'gini', 'min_samples_leaf': 10, 'min_samples_split': 10, 'random_state': 0, 'splitter': 'random'}, {'criterion': 'entropy', 'min_samples_leaf': 1, 'min_samples_split': 2, 'random_state': 0, 'splitter': 'best'}, {'criterion': 'entropy', 'min_samples_leaf': 1, 'min_samples_split': 2, 'random_state': 0, 'splitter': 'random'}, {'criterion': 'entropy', 'min_samples_leaf': 1, 'min_samples_split': 5, 'random_state': 0, 'splitter': 'best'}, {'criterion': 'entropy', 'min_samples_leaf': 1, 'min_samples_split': 5, 'random_state': 0, 'splitter': 'random'}, {'criterion': 'entropy', 'min_samples_leaf': 1, 'min_samples_split': 10, 'random_state': 0, 'splitter': 'best'}, {'criterion': 'entropy', 'min_samples_leaf': 1, 'min_samples_split': 10, 'random_state': 0, 'splitter': 'random'}, {'criterion': 'entropy', 'min_samples_leaf': 5, 'min_samples_split': 2, 'random_state': 0, 'splitter': 'best'}, {'criterion': 'entropy', 'min_samples_leaf': 5, 'min_samples_split': 2, 'random_state': 0, 'splitter': 'random'}, {'criterion': 'entropy', 'min_samples_leaf': 5, 'min_samples_split': 5, 'random_state': 0, 'splitter': 'best'}, {'criterion': 'entropy', 'min_samples_leaf': 5, 'min_samples_split': 5, 'random_state': 0, 'splitter': 'random'}, {'criterion': 'entropy', 'min_samples_leaf': 5, 'min_samples_split': 10, 'random_state': 0, 'splitter': 'best'}, {'criterion': 'entropy', 'min_samples_leaf': 5, 'min_samples_split': 10, 'random_state': 0, 'splitter': 'random'}, {'criterion': 'entropy', 'min_samples_leaf': 10, 'min_samples_split': 2, 'random_state': 0, 'splitter': 'best'}, {'criterion': 'entropy', 'min_samples_leaf': 10, 'min_samples_split': 2, 'random_state': 0, 'splitter': 'random'}, {'criterion': 'entropy', 'min_samples_leaf': 10, 'min_samples_split': 5, 'random_state': 0, 'splitter': 'best'}, {'criterion': 'entropy', 'min_samples_leaf': 10, 'min_samples_split': 5, 'random_state': 0, 'splitter': 'random'}, {'criterion': 'entropy', 'min_samples_leaf': 10, 'min_samples_split': 10, 'random_state': 0, 'splitter': 'best'}, {'criterion': 'entropy', 'min_samples_leaf': 10, 'min_samples_split': 10, 'random_state': 0, 'splitter': 'random'}], 'split0_test_score': array([1., 1., 1., 1., 1., 1., 1., 1., 1., 1., 1., 1., 1., 1., 1., 1., 1.,\n",
            "       1., 1., 1., 1., 1., 1., 1., 1., 1., 1., 1., 1., 1., 1., 1., 1., 1.,\n",
            "       1., 1.]), 'split1_test_score': array([1., 1., 1., 1., 1., 1., 1., 1., 1., 1., 1., 1., 1., 1., 1., 1., 1.,\n",
            "       1., 1., 1., 1., 1., 1., 1., 1., 1., 1., 1., 1., 1., 1., 1., 1., 1.,\n",
            "       1., 1.]), 'split2_test_score': array([1., 1., 1., 1., 1., 1., 1., 1., 1., 1., 1., 1., 1., 1., 1., 1., 1.,\n",
            "       1., 1., 1., 1., 1., 1., 1., 1., 1., 1., 1., 1., 1., 1., 1., 1., 1.,\n",
            "       1., 1.]), 'split3_test_score': array([1., 1., 1., 1., 1., 1., 1., 1., 1., 1., 1., 1., 1., 1., 1., 1., 1.,\n",
            "       1., 1., 1., 1., 1., 1., 1., 1., 1., 1., 1., 1., 1., 1., 1., 1., 1.,\n",
            "       1., 1.]), 'split4_test_score': array([1., 1., 1., 1., 1., 1., 1., 1., 1., 1., 1., 1., 1., 1., 1., 1., 1.,\n",
            "       1., 1., 1., 1., 1., 1., 1., 1., 1., 1., 1., 1., 1., 1., 1., 1., 1.,\n",
            "       1., 1.]), 'mean_test_score': array([1., 1., 1., 1., 1., 1., 1., 1., 1., 1., 1., 1., 1., 1., 1., 1., 1.,\n",
            "       1., 1., 1., 1., 1., 1., 1., 1., 1., 1., 1., 1., 1., 1., 1., 1., 1.,\n",
            "       1., 1.]), 'std_test_score': array([0., 0., 0., 0., 0., 0., 0., 0., 0., 0., 0., 0., 0., 0., 0., 0., 0.,\n",
            "       0., 0., 0., 0., 0., 0., 0., 0., 0., 0., 0., 0., 0., 0., 0., 0., 0.,\n",
            "       0., 0.]), 'rank_test_score': array([1, 1, 1, 1, 1, 1, 1, 1, 1, 1, 1, 1, 1, 1, 1, 1, 1, 1, 1, 1, 1, 1,\n",
            "       1, 1, 1, 1, 1, 1, 1, 1, 1, 1, 1, 1, 1, 1], dtype=int32)}\n"
          ]
        }
      ]
    },
    {
      "cell_type": "code",
      "metadata": {
        "colab": {
          "base_uri": "https://localhost:8080/"
        },
        "id": "7eYVBDNM1S8X",
        "outputId": "9dbe5962-a26e-47b5-89df-3979f2c07514"
      },
      "source": [
        "print(grid_search.cv_results_['params'][0])\n",
        "print(grid_search.cv_results_['params'][1])"
      ],
      "execution_count": 54,
      "outputs": [
        {
          "output_type": "stream",
          "name": "stdout",
          "text": [
            "{'criterion': 'gini', 'min_samples_leaf': 1, 'min_samples_split': 2, 'random_state': 0, 'splitter': 'best'}\n",
            "{'criterion': 'gini', 'min_samples_leaf': 1, 'min_samples_split': 2, 'random_state': 0, 'splitter': 'random'}\n"
          ]
        }
      ]
    },
    {
      "cell_type": "markdown",
      "metadata": {
        "id": "DVH3vP101ZZo"
      },
      "source": [
        "##Random Forest"
      ]
    },
    {
      "cell_type": "code",
      "metadata": {
        "id": "ovPmKXZ-1W1L"
      },
      "source": [
        "from sklearn.ensemble import RandomForestClassifier"
      ],
      "execution_count": 55,
      "outputs": []
    },
    {
      "cell_type": "code",
      "metadata": {
        "colab": {
          "base_uri": "https://localhost:8080/"
        },
        "id": "Cseeau6w1ejg",
        "outputId": "4561e5a8-4c68-4ddf-b86e-4eafdf2848e9"
      },
      "source": [
        "randforest_dataset = RandomForestClassifier(n_estimators = 15, criterion = 'entropy', random_state = 0)\n",
        "randforest_dataset.fit(X_dataset_treinamento, y_dataset_treinamento)"
      ],
      "execution_count": 56,
      "outputs": [
        {
          "output_type": "execute_result",
          "data": {
            "text/plain": [
              "RandomForestClassifier(criterion='entropy', n_estimators=15, random_state=0)"
            ]
          },
          "metadata": {},
          "execution_count": 56
        }
      ]
    },
    {
      "cell_type": "code",
      "metadata": {
        "id": "csn7hofp1gCq"
      },
      "source": [
        "previsoes_randforest = randforest_dataset.predict(X_dataset_teste)"
      ],
      "execution_count": 57,
      "outputs": []
    },
    {
      "cell_type": "code",
      "metadata": {
        "colab": {
          "base_uri": "https://localhost:8080/"
        },
        "id": "0VrMylkX1hpY",
        "outputId": "cfb74464-bdfd-4907-b336-c761918daea1"
      },
      "source": [
        "accuracy_randforest = accuracy_score(y_dataset_teste, previsoes_randforest)\n",
        "accuracy_randforest"
      ],
      "execution_count": 58,
      "outputs": [
        {
          "output_type": "execute_result",
          "data": {
            "text/plain": [
              "1.0"
            ]
          },
          "metadata": {},
          "execution_count": 58
        }
      ]
    },
    {
      "cell_type": "code",
      "metadata": {
        "colab": {
          "base_uri": "https://localhost:8080/"
        },
        "id": "2NLEmH-U1jN8",
        "outputId": "8c080658-1af0-4cc8-f746-69a86ba2d32b"
      },
      "source": [
        "confusion_matrix(y_dataset_teste, previsoes_randforest)"
      ],
      "execution_count": 59,
      "outputs": [
        {
          "output_type": "execute_result",
          "data": {
            "text/plain": [
              "array([[107,   0],\n",
              "       [  0,  47]])"
            ]
          },
          "metadata": {},
          "execution_count": 59
        }
      ]
    },
    {
      "cell_type": "code",
      "metadata": {
        "colab": {
          "base_uri": "https://localhost:8080/"
        },
        "id": "2KN9bCdk1kwA",
        "outputId": "04cba9c4-1550-4119-fc01-f0d6c355fc70"
      },
      "source": [
        "print(classification_report(y_dataset_teste, previsoes_randforest))"
      ],
      "execution_count": 60,
      "outputs": [
        {
          "output_type": "stream",
          "name": "stdout",
          "text": [
            "              precision    recall  f1-score   support\n",
            "\n",
            "           0       1.00      1.00      1.00       107\n",
            "           1       1.00      1.00      1.00        47\n",
            "\n",
            "    accuracy                           1.00       154\n",
            "   macro avg       1.00      1.00      1.00       154\n",
            "weighted avg       1.00      1.00      1.00       154\n",
            "\n"
          ]
        }
      ]
    },
    {
      "cell_type": "markdown",
      "metadata": {
        "id": "A-Dz7ujV1yXg"
      },
      "source": [
        "## KNN"
      ]
    },
    {
      "cell_type": "code",
      "metadata": {
        "id": "zTlDi0vu1may"
      },
      "source": [
        "from sklearn.neighbors import KNeighborsClassifier"
      ],
      "execution_count": 61,
      "outputs": []
    },
    {
      "cell_type": "code",
      "metadata": {
        "id": "HY6HVjpV13to"
      },
      "source": [
        "parametros = {'n_neighbors': [3, 5, 10, 20],\n",
        "             'p': [1, 2]}"
      ],
      "execution_count": 62,
      "outputs": []
    },
    {
      "cell_type": "code",
      "metadata": {
        "colab": {
          "base_uri": "https://localhost:8080/"
        },
        "id": "yY_Ack4r15aG",
        "outputId": "597f4313-861e-4d01-dea7-f9c29d03c3cb"
      },
      "source": [
        "grid_search = GridSearchCV(estimator=KNeighborsClassifier(), param_grid=parametros)\n",
        "#Ajuste de todos os parametros\n",
        "grid_search.fit(X_dataset_treinamento, y_dataset_treinamento)\n",
        "melhores_parametros = grid_search.best_params_\n",
        "melhor_resultado = grid_search.best_score_\n",
        "print(f'Melhores parametros: {melhores_parametros}')\n",
        "print(f'Melhor resultado: {melhor_resultado}')"
      ],
      "execution_count": 63,
      "outputs": [
        {
          "output_type": "stream",
          "name": "stdout",
          "text": [
            "Melhores parametros: {'n_neighbors': 20, 'p': 1}\n",
            "Melhor resultado: 1.0\n"
          ]
        }
      ]
    },
    {
      "cell_type": "markdown",
      "metadata": {
        "id": "jUzJvWXK19Rx"
      },
      "source": [
        "## Logistic Regression"
      ]
    },
    {
      "cell_type": "code",
      "metadata": {
        "id": "WBlDOpZ717Nd"
      },
      "source": [
        "from sklearn.linear_model import LogisticRegression"
      ],
      "execution_count": 64,
      "outputs": []
    },
    {
      "cell_type": "code",
      "metadata": {
        "id": "1-AhXac-2BK8"
      },
      "source": [
        "parametros = {'tol': [0.0001, 0.00001, 0.000001],\n",
        "             'C': [1.0, 1.5, 2.0],\n",
        "             'solver': ['lbfgs', 'sag', 'saga']}"
      ],
      "execution_count": 65,
      "outputs": []
    },
    {
      "cell_type": "code",
      "metadata": {
        "colab": {
          "base_uri": "https://localhost:8080/"
        },
        "id": "x7grvt1w2Cix",
        "outputId": "795e97f6-bdcd-47ec-e899-529d29fe4104"
      },
      "source": [
        "grid_search = GridSearchCV(estimator=LogisticRegression(), param_grid=parametros)\n",
        "grid_search.fit(X_dataset_treinamento, y_dataset_treinamento)\n",
        "melhores_parametros = grid_search.best_params_\n",
        "melhor_resultado = grid_search.best_score_\n",
        "print(f'Melhores parametros: {melhores_parametros}')\n",
        "print(f'Melhor resultado: {melhor_resultado}')"
      ],
      "execution_count": 72,
      "outputs": [
        {
          "output_type": "stream",
          "name": "stderr",
          "text": [
            "/usr/local/lib/python3.7/dist-packages/sklearn/linear_model/_sag.py:354: ConvergenceWarning:\n",
            "\n",
            "The max_iter was reached which means the coef_ did not converge\n",
            "\n",
            "/usr/local/lib/python3.7/dist-packages/sklearn/linear_model/_sag.py:354: ConvergenceWarning:\n",
            "\n",
            "The max_iter was reached which means the coef_ did not converge\n",
            "\n",
            "/usr/local/lib/python3.7/dist-packages/sklearn/linear_model/_sag.py:354: ConvergenceWarning:\n",
            "\n",
            "The max_iter was reached which means the coef_ did not converge\n",
            "\n",
            "/usr/local/lib/python3.7/dist-packages/sklearn/linear_model/_sag.py:354: ConvergenceWarning:\n",
            "\n",
            "The max_iter was reached which means the coef_ did not converge\n",
            "\n",
            "/usr/local/lib/python3.7/dist-packages/sklearn/linear_model/_sag.py:354: ConvergenceWarning:\n",
            "\n",
            "The max_iter was reached which means the coef_ did not converge\n",
            "\n",
            "/usr/local/lib/python3.7/dist-packages/sklearn/linear_model/_sag.py:354: ConvergenceWarning:\n",
            "\n",
            "The max_iter was reached which means the coef_ did not converge\n",
            "\n",
            "/usr/local/lib/python3.7/dist-packages/sklearn/linear_model/_sag.py:354: ConvergenceWarning:\n",
            "\n",
            "The max_iter was reached which means the coef_ did not converge\n",
            "\n",
            "/usr/local/lib/python3.7/dist-packages/sklearn/linear_model/_sag.py:354: ConvergenceWarning:\n",
            "\n",
            "The max_iter was reached which means the coef_ did not converge\n",
            "\n",
            "/usr/local/lib/python3.7/dist-packages/sklearn/linear_model/_sag.py:354: ConvergenceWarning:\n",
            "\n",
            "The max_iter was reached which means the coef_ did not converge\n",
            "\n",
            "/usr/local/lib/python3.7/dist-packages/sklearn/linear_model/_sag.py:354: ConvergenceWarning:\n",
            "\n",
            "The max_iter was reached which means the coef_ did not converge\n",
            "\n",
            "/usr/local/lib/python3.7/dist-packages/sklearn/linear_model/_sag.py:354: ConvergenceWarning:\n",
            "\n",
            "The max_iter was reached which means the coef_ did not converge\n",
            "\n",
            "/usr/local/lib/python3.7/dist-packages/sklearn/linear_model/_sag.py:354: ConvergenceWarning:\n",
            "\n",
            "The max_iter was reached which means the coef_ did not converge\n",
            "\n"
          ]
        },
        {
          "output_type": "stream",
          "name": "stdout",
          "text": [
            "Melhores parametros: {'C': 1.0, 'solver': 'lbfgs', 'tol': 0.0001}\n",
            "Melhor resultado: 1.0\n"
          ]
        },
        {
          "output_type": "stream",
          "name": "stderr",
          "text": [
            "/usr/local/lib/python3.7/dist-packages/sklearn/linear_model/_sag.py:354: ConvergenceWarning:\n",
            "\n",
            "The max_iter was reached which means the coef_ did not converge\n",
            "\n",
            "/usr/local/lib/python3.7/dist-packages/sklearn/linear_model/_sag.py:354: ConvergenceWarning:\n",
            "\n",
            "The max_iter was reached which means the coef_ did not converge\n",
            "\n",
            "/usr/local/lib/python3.7/dist-packages/sklearn/linear_model/_sag.py:354: ConvergenceWarning:\n",
            "\n",
            "The max_iter was reached which means the coef_ did not converge\n",
            "\n",
            "/usr/local/lib/python3.7/dist-packages/sklearn/linear_model/_sag.py:354: ConvergenceWarning:\n",
            "\n",
            "The max_iter was reached which means the coef_ did not converge\n",
            "\n",
            "/usr/local/lib/python3.7/dist-packages/sklearn/linear_model/_sag.py:354: ConvergenceWarning:\n",
            "\n",
            "The max_iter was reached which means the coef_ did not converge\n",
            "\n",
            "/usr/local/lib/python3.7/dist-packages/sklearn/linear_model/_sag.py:354: ConvergenceWarning:\n",
            "\n",
            "The max_iter was reached which means the coef_ did not converge\n",
            "\n",
            "/usr/local/lib/python3.7/dist-packages/sklearn/linear_model/_sag.py:354: ConvergenceWarning:\n",
            "\n",
            "The max_iter was reached which means the coef_ did not converge\n",
            "\n",
            "/usr/local/lib/python3.7/dist-packages/sklearn/linear_model/_sag.py:354: ConvergenceWarning:\n",
            "\n",
            "The max_iter was reached which means the coef_ did not converge\n",
            "\n",
            "/usr/local/lib/python3.7/dist-packages/sklearn/linear_model/_sag.py:354: ConvergenceWarning:\n",
            "\n",
            "The max_iter was reached which means the coef_ did not converge\n",
            "\n",
            "/usr/local/lib/python3.7/dist-packages/sklearn/linear_model/_sag.py:354: ConvergenceWarning:\n",
            "\n",
            "The max_iter was reached which means the coef_ did not converge\n",
            "\n"
          ]
        }
      ]
    },
    {
      "cell_type": "markdown",
      "metadata": {
        "id": "YrFT21Fv2gG5"
      },
      "source": [
        "##SVM"
      ]
    },
    {
      "cell_type": "code",
      "metadata": {
        "id": "_daMC7AF2EHf"
      },
      "source": [
        "from sklearn.svm import SVC"
      ],
      "execution_count": 73,
      "outputs": []
    },
    {
      "cell_type": "code",
      "metadata": {
        "id": "zVwgYpgP2mNg"
      },
      "source": [
        "parametros = {'tol': [0.0001, 0.00001, 0.000001],\n",
        "             'C': [1.0, 1.5, 2.0],\n",
        "             'kernel': ['rbf', 'linear', 'poly', 'sigmoid']}"
      ],
      "execution_count": 74,
      "outputs": []
    },
    {
      "cell_type": "code",
      "metadata": {
        "colab": {
          "base_uri": "https://localhost:8080/"
        },
        "id": "2J7Godg22n1Y",
        "outputId": "12cefddc-5a8f-49bd-c928-48087c9916d7"
      },
      "source": [
        "grid_search = GridSearchCV(estimator=SVC(), param_grid=parametros)\n",
        "grid_search.fit(X_dataset_treinamento, y_dataset_treinamento)\n",
        "melhores_parametros = grid_search.best_params_\n",
        "melhor_resultado = grid_search.best_score_\n",
        "print(f'Melhores parametros: {melhores_parametros}')\n",
        "print(f'Melhor resultado: {melhor_resultado}')"
      ],
      "execution_count": 75,
      "outputs": [
        {
          "output_type": "stream",
          "name": "stdout",
          "text": [
            "Melhores parametros: {'C': 1.0, 'kernel': 'linear', 'tol': 0.0001}\n",
            "Melhor resultado: 1.0\n"
          ]
        }
      ]
    },
    {
      "cell_type": "markdown",
      "metadata": {
        "id": "WLO4GLLd2sMZ"
      },
      "source": [
        "##Neural Network"
      ]
    },
    {
      "cell_type": "code",
      "metadata": {
        "id": "Xr987wz92p33"
      },
      "source": [
        "from sklearn.neural_network import MLPClassifier"
      ],
      "execution_count": 76,
      "outputs": []
    },
    {
      "cell_type": "code",
      "metadata": {
        "id": "iNpzmyNb2vRg"
      },
      "source": [
        "parametros = {'activation': ['relu', 'logistic', 'tanh'],\n",
        "             'solver': ['adam', 'sgd'],\n",
        "             'batch_size': [10, 56],\n",
        "             'hidden_layer_sizes': [(4)]}"
      ],
      "execution_count": 77,
      "outputs": []
    },
    {
      "cell_type": "code",
      "metadata": {
        "colab": {
          "base_uri": "https://localhost:8080/"
        },
        "id": "XO5TEu452xn2",
        "outputId": "3b4a664e-7ac6-4a49-d75b-f39f3421ad94"
      },
      "source": [
        "grid_search = GridSearchCV(estimator=MLPClassifier(), param_grid=parametros)\n",
        "grid_search.fit(X_dataset_treinamento, y_dataset_treinamento)\n",
        "melhores_parametros = grid_search.best_params_\n",
        "melhor_resultado = grid_search.best_score_\n",
        "print(f'Melhores parametros: {melhores_parametros}')\n",
        "print(f'Melhor resultado: {melhor_resultado}')"
      ],
      "execution_count": 78,
      "outputs": [
        {
          "output_type": "stream",
          "name": "stderr",
          "text": [
            "/usr/local/lib/python3.7/dist-packages/sklearn/neural_network/_multilayer_perceptron.py:696: ConvergenceWarning:\n",
            "\n",
            "Stochastic Optimizer: Maximum iterations (200) reached and the optimization hasn't converged yet.\n",
            "\n",
            "/usr/local/lib/python3.7/dist-packages/sklearn/neural_network/_multilayer_perceptron.py:696: ConvergenceWarning:\n",
            "\n",
            "Stochastic Optimizer: Maximum iterations (200) reached and the optimization hasn't converged yet.\n",
            "\n",
            "/usr/local/lib/python3.7/dist-packages/sklearn/neural_network/_multilayer_perceptron.py:696: ConvergenceWarning:\n",
            "\n",
            "Stochastic Optimizer: Maximum iterations (200) reached and the optimization hasn't converged yet.\n",
            "\n",
            "/usr/local/lib/python3.7/dist-packages/sklearn/neural_network/_multilayer_perceptron.py:696: ConvergenceWarning:\n",
            "\n",
            "Stochastic Optimizer: Maximum iterations (200) reached and the optimization hasn't converged yet.\n",
            "\n",
            "/usr/local/lib/python3.7/dist-packages/sklearn/neural_network/_multilayer_perceptron.py:696: ConvergenceWarning:\n",
            "\n",
            "Stochastic Optimizer: Maximum iterations (200) reached and the optimization hasn't converged yet.\n",
            "\n",
            "/usr/local/lib/python3.7/dist-packages/sklearn/neural_network/_multilayer_perceptron.py:696: ConvergenceWarning:\n",
            "\n",
            "Stochastic Optimizer: Maximum iterations (200) reached and the optimization hasn't converged yet.\n",
            "\n",
            "/usr/local/lib/python3.7/dist-packages/sklearn/neural_network/_multilayer_perceptron.py:696: ConvergenceWarning:\n",
            "\n",
            "Stochastic Optimizer: Maximum iterations (200) reached and the optimization hasn't converged yet.\n",
            "\n",
            "/usr/local/lib/python3.7/dist-packages/sklearn/neural_network/_multilayer_perceptron.py:696: ConvergenceWarning:\n",
            "\n",
            "Stochastic Optimizer: Maximum iterations (200) reached and the optimization hasn't converged yet.\n",
            "\n",
            "/usr/local/lib/python3.7/dist-packages/sklearn/neural_network/_multilayer_perceptron.py:696: ConvergenceWarning:\n",
            "\n",
            "Stochastic Optimizer: Maximum iterations (200) reached and the optimization hasn't converged yet.\n",
            "\n",
            "/usr/local/lib/python3.7/dist-packages/sklearn/neural_network/_multilayer_perceptron.py:696: ConvergenceWarning:\n",
            "\n",
            "Stochastic Optimizer: Maximum iterations (200) reached and the optimization hasn't converged yet.\n",
            "\n",
            "/usr/local/lib/python3.7/dist-packages/sklearn/neural_network/_multilayer_perceptron.py:696: ConvergenceWarning:\n",
            "\n",
            "Stochastic Optimizer: Maximum iterations (200) reached and the optimization hasn't converged yet.\n",
            "\n",
            "/usr/local/lib/python3.7/dist-packages/sklearn/neural_network/_multilayer_perceptron.py:696: ConvergenceWarning:\n",
            "\n",
            "Stochastic Optimizer: Maximum iterations (200) reached and the optimization hasn't converged yet.\n",
            "\n",
            "/usr/local/lib/python3.7/dist-packages/sklearn/neural_network/_multilayer_perceptron.py:696: ConvergenceWarning:\n",
            "\n",
            "Stochastic Optimizer: Maximum iterations (200) reached and the optimization hasn't converged yet.\n",
            "\n",
            "/usr/local/lib/python3.7/dist-packages/sklearn/neural_network/_multilayer_perceptron.py:696: ConvergenceWarning:\n",
            "\n",
            "Stochastic Optimizer: Maximum iterations (200) reached and the optimization hasn't converged yet.\n",
            "\n",
            "/usr/local/lib/python3.7/dist-packages/sklearn/neural_network/_multilayer_perceptron.py:696: ConvergenceWarning:\n",
            "\n",
            "Stochastic Optimizer: Maximum iterations (200) reached and the optimization hasn't converged yet.\n",
            "\n",
            "/usr/local/lib/python3.7/dist-packages/sklearn/neural_network/_multilayer_perceptron.py:696: ConvergenceWarning:\n",
            "\n",
            "Stochastic Optimizer: Maximum iterations (200) reached and the optimization hasn't converged yet.\n",
            "\n",
            "/usr/local/lib/python3.7/dist-packages/sklearn/neural_network/_multilayer_perceptron.py:696: ConvergenceWarning:\n",
            "\n",
            "Stochastic Optimizer: Maximum iterations (200) reached and the optimization hasn't converged yet.\n",
            "\n",
            "/usr/local/lib/python3.7/dist-packages/sklearn/neural_network/_multilayer_perceptron.py:696: ConvergenceWarning:\n",
            "\n",
            "Stochastic Optimizer: Maximum iterations (200) reached and the optimization hasn't converged yet.\n",
            "\n",
            "/usr/local/lib/python3.7/dist-packages/sklearn/neural_network/_multilayer_perceptron.py:696: ConvergenceWarning:\n",
            "\n",
            "Stochastic Optimizer: Maximum iterations (200) reached and the optimization hasn't converged yet.\n",
            "\n",
            "/usr/local/lib/python3.7/dist-packages/sklearn/neural_network/_multilayer_perceptron.py:696: ConvergenceWarning:\n",
            "\n",
            "Stochastic Optimizer: Maximum iterations (200) reached and the optimization hasn't converged yet.\n",
            "\n",
            "/usr/local/lib/python3.7/dist-packages/sklearn/neural_network/_multilayer_perceptron.py:696: ConvergenceWarning:\n",
            "\n",
            "Stochastic Optimizer: Maximum iterations (200) reached and the optimization hasn't converged yet.\n",
            "\n",
            "/usr/local/lib/python3.7/dist-packages/sklearn/neural_network/_multilayer_perceptron.py:696: ConvergenceWarning:\n",
            "\n",
            "Stochastic Optimizer: Maximum iterations (200) reached and the optimization hasn't converged yet.\n",
            "\n",
            "/usr/local/lib/python3.7/dist-packages/sklearn/neural_network/_multilayer_perceptron.py:696: ConvergenceWarning:\n",
            "\n",
            "Stochastic Optimizer: Maximum iterations (200) reached and the optimization hasn't converged yet.\n",
            "\n",
            "/usr/local/lib/python3.7/dist-packages/sklearn/neural_network/_multilayer_perceptron.py:696: ConvergenceWarning:\n",
            "\n",
            "Stochastic Optimizer: Maximum iterations (200) reached and the optimization hasn't converged yet.\n",
            "\n",
            "/usr/local/lib/python3.7/dist-packages/sklearn/neural_network/_multilayer_perceptron.py:696: ConvergenceWarning:\n",
            "\n",
            "Stochastic Optimizer: Maximum iterations (200) reached and the optimization hasn't converged yet.\n",
            "\n",
            "/usr/local/lib/python3.7/dist-packages/sklearn/neural_network/_multilayer_perceptron.py:696: ConvergenceWarning:\n",
            "\n",
            "Stochastic Optimizer: Maximum iterations (200) reached and the optimization hasn't converged yet.\n",
            "\n",
            "/usr/local/lib/python3.7/dist-packages/sklearn/neural_network/_multilayer_perceptron.py:696: ConvergenceWarning:\n",
            "\n",
            "Stochastic Optimizer: Maximum iterations (200) reached and the optimization hasn't converged yet.\n",
            "\n",
            "/usr/local/lib/python3.7/dist-packages/sklearn/neural_network/_multilayer_perceptron.py:696: ConvergenceWarning:\n",
            "\n",
            "Stochastic Optimizer: Maximum iterations (200) reached and the optimization hasn't converged yet.\n",
            "\n",
            "/usr/local/lib/python3.7/dist-packages/sklearn/neural_network/_multilayer_perceptron.py:696: ConvergenceWarning:\n",
            "\n",
            "Stochastic Optimizer: Maximum iterations (200) reached and the optimization hasn't converged yet.\n",
            "\n",
            "/usr/local/lib/python3.7/dist-packages/sklearn/neural_network/_multilayer_perceptron.py:696: ConvergenceWarning:\n",
            "\n",
            "Stochastic Optimizer: Maximum iterations (200) reached and the optimization hasn't converged yet.\n",
            "\n",
            "/usr/local/lib/python3.7/dist-packages/sklearn/neural_network/_multilayer_perceptron.py:696: ConvergenceWarning:\n",
            "\n",
            "Stochastic Optimizer: Maximum iterations (200) reached and the optimization hasn't converged yet.\n",
            "\n",
            "/usr/local/lib/python3.7/dist-packages/sklearn/neural_network/_multilayer_perceptron.py:696: ConvergenceWarning:\n",
            "\n",
            "Stochastic Optimizer: Maximum iterations (200) reached and the optimization hasn't converged yet.\n",
            "\n",
            "/usr/local/lib/python3.7/dist-packages/sklearn/neural_network/_multilayer_perceptron.py:696: ConvergenceWarning:\n",
            "\n",
            "Stochastic Optimizer: Maximum iterations (200) reached and the optimization hasn't converged yet.\n",
            "\n",
            "/usr/local/lib/python3.7/dist-packages/sklearn/neural_network/_multilayer_perceptron.py:696: ConvergenceWarning:\n",
            "\n",
            "Stochastic Optimizer: Maximum iterations (200) reached and the optimization hasn't converged yet.\n",
            "\n",
            "/usr/local/lib/python3.7/dist-packages/sklearn/neural_network/_multilayer_perceptron.py:696: ConvergenceWarning:\n",
            "\n",
            "Stochastic Optimizer: Maximum iterations (200) reached and the optimization hasn't converged yet.\n",
            "\n"
          ]
        },
        {
          "output_type": "stream",
          "name": "stdout",
          "text": [
            "Melhores parametros: {'activation': 'relu', 'batch_size': 10, 'hidden_layer_sizes': 4, 'solver': 'adam'}\n",
            "Melhor resultado: 1.0\n"
          ]
        }
      ]
    },
    {
      "cell_type": "markdown",
      "metadata": {
        "id": "kIlB-9tY76P5"
      },
      "source": [
        "#REFERÊNCIAS"
      ]
    },
    {
      "cell_type": "markdown",
      "metadata": {
        "id": "Eo4M_ofc79Fv"
      },
      "source": [
        "KNN 99,3%, NB e SVM 100% – Análise de dados e remoção de Pregnancies, SkinThinckness e BloodPressure\n",
        "\n",
        "https://www.youtube.com/watch?v=uGN5mDg8d8I\n",
        "\n",
        "XGB 77,49% - Análise de dados, visualização e substituição de valores. SearchCV\n",
        "\n",
        "https://www.youtube.com/watch?v=BIgvIrCGBZE\n",
        "\n",
        "Regressão Logística 82,3% – Análise e Escalonamento dos Atributos\n",
        "\n",
        "[08:40] Remoção de dados considerados outliers\n",
        "\n",
        "[15:00] Normalização com simples divisão pelo valor máximo\n",
        "\n",
        "https://www.youtube.com/watch?v=dW3x6bM5Mjo\n",
        "\n",
        "Regressão Logística – Pouca análise – 78% de precisão\n",
        "\n",
        "https://www.youtube.com/watch?v=X0EpG6iGKY0"
      ]
    },
    {
      "cell_type": "code",
      "metadata": {
        "id": "_-9Ald6U8M4s"
      },
      "source": [
        ""
      ],
      "execution_count": null,
      "outputs": []
    }
  ]
}